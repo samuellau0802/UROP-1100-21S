{
 "cells": [
  {
   "cell_type": "code",
   "execution_count": 21,
   "metadata": {},
   "outputs": [],
   "source": [
    "import pandas as pd\n",
    "sklearn = pd.read_csv(\"sklearn.csv\")\n",
    "sklearn.index = sklearn.model\n",
    "kaggle = pd.read_csv(\"kaggle.csv\")\n",
    "kaggle.index = kaggle.model\n",
    "agnews = pd.read_csv(\"agnews.csv\")\n",
    "agnews.index = agnews.model"
   ]
  },
  {
   "cell_type": "code",
   "execution_count": 23,
   "metadata": {},
   "outputs": [
    {
     "data": {
      "text/html": [
       "<div>\n",
       "<style scoped>\n",
       "    .dataframe tbody tr th:only-of-type {\n",
       "        vertical-align: middle;\n",
       "    }\n",
       "\n",
       "    .dataframe tbody tr th {\n",
       "        vertical-align: top;\n",
       "    }\n",
       "\n",
       "    .dataframe thead th {\n",
       "        text-align: right;\n",
       "    }\n",
       "</style>\n",
       "<table border=\"1\" class=\"dataframe\">\n",
       "  <thead>\n",
       "    <tr style=\"text-align: right;\">\n",
       "      <th></th>\n",
       "      <th>sklearn</th>\n",
       "      <th>kaggle</th>\n",
       "      <th>agnews</th>\n",
       "    </tr>\n",
       "    <tr>\n",
       "      <th>model</th>\n",
       "      <th></th>\n",
       "      <th></th>\n",
       "      <th></th>\n",
       "    </tr>\n",
       "  </thead>\n",
       "  <tbody>\n",
       "    <tr>\n",
       "      <th>tfidf+sgd</th>\n",
       "      <td>0.920410</td>\n",
       "      <td>0.546784</td>\n",
       "      <td>0.912853</td>\n",
       "    </tr>\n",
       "    <tr>\n",
       "      <th>tfidf+ridge</th>\n",
       "      <td>0.926070</td>\n",
       "      <td>0.573354</td>\n",
       "      <td>0.918130</td>\n",
       "    </tr>\n",
       "    <tr>\n",
       "      <th>tfidf+perceptron</th>\n",
       "      <td>0.894588</td>\n",
       "      <td>0.491453</td>\n",
       "      <td>0.886207</td>\n",
       "    </tr>\n",
       "    <tr>\n",
       "      <th>tfidf+passiveaggressive</th>\n",
       "      <td>0.925893</td>\n",
       "      <td>0.515915</td>\n",
       "      <td>0.888271</td>\n",
       "    </tr>\n",
       "    <tr>\n",
       "      <th>tfidf+kNN</th>\n",
       "      <td>0.794305</td>\n",
       "      <td>0.161378</td>\n",
       "      <td>0.899216</td>\n",
       "    </tr>\n",
       "    <tr>\n",
       "      <th>tfidf+svc</th>\n",
       "      <td>0.926601</td>\n",
       "      <td>0.577801</td>\n",
       "      <td>0.916902</td>\n",
       "    </tr>\n",
       "    <tr>\n",
       "      <th>tfidf+multi_NB</th>\n",
       "      <td>0.873364</td>\n",
       "      <td>0.412009</td>\n",
       "      <td>0.907863</td>\n",
       "    </tr>\n",
       "    <tr>\n",
       "      <th>tfidf+CNB</th>\n",
       "      <td>0.902016</td>\n",
       "      <td>0.546087</td>\n",
       "      <td>0.906426</td>\n",
       "    </tr>\n",
       "    <tr>\n",
       "      <th>tfidf+logreg</th>\n",
       "      <td>0.901486</td>\n",
       "      <td>0.564425</td>\n",
       "      <td>0.917215</td>\n",
       "    </tr>\n",
       "  </tbody>\n",
       "</table>\n",
       "</div>"
      ],
      "text/plain": [
       "                          sklearn    kaggle    agnews\n",
       "model                                                \n",
       "tfidf+sgd                0.920410  0.546784  0.912853\n",
       "tfidf+ridge              0.926070  0.573354  0.918130\n",
       "tfidf+perceptron         0.894588  0.491453  0.886207\n",
       "tfidf+passiveaggressive  0.925893  0.515915  0.888271\n",
       "tfidf+kNN                0.794305  0.161378  0.899216\n",
       "tfidf+svc                0.926601  0.577801  0.916902\n",
       "tfidf+multi_NB           0.873364  0.412009  0.907863\n",
       "tfidf+CNB                0.902016  0.546087  0.906426\n",
       "tfidf+logreg             0.901486  0.564425  0.917215"
      ]
     },
     "execution_count": 23,
     "metadata": {},
     "output_type": "execute_result"
    }
   ],
   "source": [
    "df_accuracy = pd.DataFrame(index=sklearn.model)\n",
    "df_accuracy['sklearn'] = sklearn['accuracy']\n",
    "df_accuracy['kaggle'] = kaggle['accuracy']\n",
    "df_accuracy['agnews'] = agnews['accuracy']\n",
    "df_accuracy"
   ]
  },
  {
   "cell_type": "code",
   "execution_count": 26,
   "metadata": {},
   "outputs": [
    {
     "data": {
      "text/plain": [
       "<AxesSubplot:ylabel='model'>"
      ]
     },
     "execution_count": 26,
     "metadata": {},
     "output_type": "execute_result"
    },
    {
     "data": {
      "image/png": "[encoded data removed]",
      "text/plain": [
       "<Figure size 432x288 with 1 Axes>"
      ]
     },
     "metadata": {
      "needs_background": "light"
     },
     "output_type": "display_data"
    }
   ],
   "source": [
    "df_accuracy.T.mean().sort_values().plot(kind='barh')"
   ]
  },
  {
   "cell_type": "code",
   "execution_count": 27,
   "metadata": {},
   "outputs": [
    {
     "data": {
      "text/html": [
       "<div>\n",
       "<style scoped>\n",
       "    .dataframe tbody tr th:only-of-type {\n",
       "        vertical-align: middle;\n",
       "    }\n",
       "\n",
       "    .dataframe tbody tr th {\n",
       "        vertical-align: top;\n",
       "    }\n",
       "\n",
       "    .dataframe thead th {\n",
       "        text-align: right;\n",
       "    }\n",
       "</style>\n",
       "<table border=\"1\" class=\"dataframe\">\n",
       "  <thead>\n",
       "    <tr style=\"text-align: right;\">\n",
       "      <th></th>\n",
       "      <th>sklearn</th>\n",
       "      <th>kaggle</th>\n",
       "      <th>agnews</th>\n",
       "    </tr>\n",
       "    <tr>\n",
       "      <th>model</th>\n",
       "      <th></th>\n",
       "      <th></th>\n",
       "      <th></th>\n",
       "    </tr>\n",
       "  </thead>\n",
       "  <tbody>\n",
       "    <tr>\n",
       "      <th>tfidf+sgd</th>\n",
       "      <td>2.316995</td>\n",
       "      <td>0.909998</td>\n",
       "      <td>1.400001</td>\n",
       "    </tr>\n",
       "    <tr>\n",
       "      <th>tfidf+ridge</th>\n",
       "      <td>1.381994</td>\n",
       "      <td>0.785999</td>\n",
       "      <td>1.272005</td>\n",
       "    </tr>\n",
       "    <tr>\n",
       "      <th>tfidf+perceptron</th>\n",
       "      <td>1.340991</td>\n",
       "      <td>1.302000</td>\n",
       "      <td>1.323993</td>\n",
       "    </tr>\n",
       "    <tr>\n",
       "      <th>tfidf+passiveaggressive</th>\n",
       "      <td>1.252998</td>\n",
       "      <td>1.687997</td>\n",
       "      <td>1.240002</td>\n",
       "    </tr>\n",
       "    <tr>\n",
       "      <th>tfidf+kNN</th>\n",
       "      <td>5.481959</td>\n",
       "      <td>213.774000</td>\n",
       "      <td>162.678013</td>\n",
       "    </tr>\n",
       "    <tr>\n",
       "      <th>tfidf+svc</th>\n",
       "      <td>1.640995</td>\n",
       "      <td>0.675994</td>\n",
       "      <td>1.457007</td>\n",
       "    </tr>\n",
       "    <tr>\n",
       "      <th>tfidf+multi_NB</th>\n",
       "      <td>3.586001</td>\n",
       "      <td>0.677002</td>\n",
       "      <td>1.664995</td>\n",
       "    </tr>\n",
       "    <tr>\n",
       "      <th>tfidf+CNB</th>\n",
       "      <td>2.078996</td>\n",
       "      <td>0.689003</td>\n",
       "      <td>1.315002</td>\n",
       "    </tr>\n",
       "    <tr>\n",
       "      <th>tfidf+logreg</th>\n",
       "      <td>1.505998</td>\n",
       "      <td>0.742993</td>\n",
       "      <td>1.252993</td>\n",
       "    </tr>\n",
       "  </tbody>\n",
       "</table>\n",
       "</div>"
      ],
      "text/plain": [
       "                          sklearn      kaggle      agnews\n",
       "model                                                    \n",
       "tfidf+sgd                2.316995    0.909998    1.400001\n",
       "tfidf+ridge              1.381994    0.785999    1.272005\n",
       "tfidf+perceptron         1.340991    1.302000    1.323993\n",
       "tfidf+passiveaggressive  1.252998    1.687997    1.240002\n",
       "tfidf+kNN                5.481959  213.774000  162.678013\n",
       "tfidf+svc                1.640995    0.675994    1.457007\n",
       "tfidf+multi_NB           3.586001    0.677002    1.664995\n",
       "tfidf+CNB                2.078996    0.689003    1.315002\n",
       "tfidf+logreg             1.505998    0.742993    1.252993"
      ]
     },
     "execution_count": 27,
     "metadata": {},
     "output_type": "execute_result"
    }
   ],
   "source": [
    "df_testtime = pd.DataFrame(index=sklearn.model)\n",
    "df_testtime['sklearn'] = sklearn['test_time']\n",
    "df_testtime['kaggle'] = kaggle['test_time']\n",
    "df_testtime['agnews'] = agnews['test_time']\n",
    "df_testtime"
   ]
  },
  {
   "cell_type": "code",
   "execution_count": 28,
   "metadata": {},
   "outputs": [
    {
     "data": {
      "text/plain": [
       "<AxesSubplot:ylabel='model'>"
      ]
     },
     "execution_count": 28,
     "metadata": {},
     "output_type": "execute_result"
    },
    {
     "data": {
      "image/png": "[encoded data removed]",
      "text/plain": [
       "<Figure size 432x288 with 1 Axes>"
      ]
     },
     "metadata": {
      "needs_background": "light"
     },
     "output_type": "display_data"
    }
   ],
   "source": [
    "df_testtime.T.mean().sort_values().plot(kind='barh')"
   ]
  },
  {
   "cell_type": "code",
   "execution_count": 31,
   "metadata": {},
   "outputs": [
    {
     "data": {
      "text/plain": [
       "<AxesSubplot:ylabel='model'>"
      ]
     },
     "execution_count": 31,
     "metadata": {},
     "output_type": "execute_result"
    },
    {
     "data": {
      "image/png": "[encoded data removed]",
      "text/plain": [
       "<Figure size 432x288 with 1 Axes>"
      ]
     },
     "metadata": {
      "needs_background": "light"
     },
     "output_type": "display_data"
    }
   ],
   "source": [
    "(df_accuracy.T.mean() / df_testtime.T.mean()).sort_values().plot(kind='barh')"
   ]
  },
  {
   "cell_type": "code",
   "execution_count": null,
   "metadata": {},
   "outputs": [],
   "source": []
  }
 ],
 "metadata": {
  "interpreter": {
   "hash": "f00daf49d657fcaf7bdc5adbb3b43841207e448605290b2bd26bf112b8cca0df"
  },
  "kernelspec": {
   "display_name": "Python 3.8.12 ('urop')",
   "language": "python",
   "name": "python3"
  },
  "language_info": {
   "codemirror_mode": {
    "name": "ipython",
    "version": 3
   },
   "file_extension": ".py",
   "mimetype": "text/x-python",
   "name": "python",
   "nbconvert_exporter": "python",
   "pygments_lexer": "ipython3",
   "version": "3.8.12"
  },
  "orig_nbformat": 4
 },
 "nbformat": 4,
 "nbformat_minor": 2
}
