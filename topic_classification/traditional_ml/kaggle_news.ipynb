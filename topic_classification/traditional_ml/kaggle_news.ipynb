{
 "cells": [
  {
   "cell_type": "code",
   "execution_count": 1,
   "metadata": {},
   "outputs": [],
   "source": [
    "import time\n",
    "import pandas as pd\n",
    "from tqdm import tqdm\n",
    "import json\n",
    "\n",
    "from sklearn.datasets import fetch_20newsgroups\n",
    "from sklearn.feature_extraction.text import TfidfVectorizer\n",
    "from sklearn.linear_model import RidgeClassifier\n",
    "from sklearn.pipeline import Pipeline\n",
    "from sklearn.svm import LinearSVC\n",
    "from sklearn.linear_model import SGDClassifier\n",
    "from sklearn.linear_model import Perceptron\n",
    "from sklearn.linear_model import PassiveAggressiveClassifier\n",
    "from sklearn.linear_model import LogisticRegression\n",
    "from sklearn.naive_bayes import ComplementNB, MultinomialNB\n",
    "from sklearn.neighbors import KNeighborsClassifier\n",
    "from sklearn.ensemble import RandomForestClassifier\n",
    "from sklearn.model_selection import train_test_split"
   ]
  },
  {
   "cell_type": "code",
   "execution_count": 2,
   "metadata": {},
   "outputs": [
    {
     "data": {
      "text/html": [
       "<div>\n",
       "<style scoped>\n",
       "    .dataframe tbody tr th:only-of-type {\n",
       "        vertical-align: middle;\n",
       "    }\n",
       "\n",
       "    .dataframe tbody tr th {\n",
       "        vertical-align: top;\n",
       "    }\n",
       "\n",
       "    .dataframe thead th {\n",
       "        text-align: right;\n",
       "    }\n",
       "</style>\n",
       "<table border=\"1\" class=\"dataframe\">\n",
       "  <thead>\n",
       "    <tr style=\"text-align: right;\">\n",
       "      <th></th>\n",
       "      <th>category</th>\n",
       "      <th>headline</th>\n",
       "      <th>authors</th>\n",
       "      <th>link</th>\n",
       "      <th>short_description</th>\n",
       "      <th>date</th>\n",
       "    </tr>\n",
       "  </thead>\n",
       "  <tbody>\n",
       "    <tr>\n",
       "      <th>0</th>\n",
       "      <td>CRIME</td>\n",
       "      <td>There Were 2 Mass Shootings In Texas Last Week...</td>\n",
       "      <td>Melissa Jeltsen</td>\n",
       "      <td>https://www.huffingtonpost.com/entry/texas-ama...</td>\n",
       "      <td>She left her husband. He killed their children...</td>\n",
       "      <td>2018-05-26</td>\n",
       "    </tr>\n",
       "    <tr>\n",
       "      <th>1</th>\n",
       "      <td>ENTERTAINMENT</td>\n",
       "      <td>Will Smith Joins Diplo And Nicky Jam For The 2...</td>\n",
       "      <td>Andy McDonald</td>\n",
       "      <td>https://www.huffingtonpost.com/entry/will-smit...</td>\n",
       "      <td>Of course it has a song.</td>\n",
       "      <td>2018-05-26</td>\n",
       "    </tr>\n",
       "    <tr>\n",
       "      <th>2</th>\n",
       "      <td>ENTERTAINMENT</td>\n",
       "      <td>Hugh Grant Marries For The First Time At Age 57</td>\n",
       "      <td>Ron Dicker</td>\n",
       "      <td>https://www.huffingtonpost.com/entry/hugh-gran...</td>\n",
       "      <td>The actor and his longtime girlfriend Anna Ebe...</td>\n",
       "      <td>2018-05-26</td>\n",
       "    </tr>\n",
       "    <tr>\n",
       "      <th>3</th>\n",
       "      <td>ENTERTAINMENT</td>\n",
       "      <td>Jim Carrey Blasts 'Castrato' Adam Schiff And D...</td>\n",
       "      <td>Ron Dicker</td>\n",
       "      <td>https://www.huffingtonpost.com/entry/jim-carre...</td>\n",
       "      <td>The actor gives Dems an ass-kicking for not fi...</td>\n",
       "      <td>2018-05-26</td>\n",
       "    </tr>\n",
       "    <tr>\n",
       "      <th>4</th>\n",
       "      <td>ENTERTAINMENT</td>\n",
       "      <td>Julianna Margulies Uses Donald Trump Poop Bags...</td>\n",
       "      <td>Ron Dicker</td>\n",
       "      <td>https://www.huffingtonpost.com/entry/julianna-...</td>\n",
       "      <td>The \"Dietland\" actress said using the bags is ...</td>\n",
       "      <td>2018-05-26</td>\n",
       "    </tr>\n",
       "  </tbody>\n",
       "</table>\n",
       "</div>"
      ],
      "text/plain": [
       "        category                                           headline  \\\n",
       "0          CRIME  There Were 2 Mass Shootings In Texas Last Week...   \n",
       "1  ENTERTAINMENT  Will Smith Joins Diplo And Nicky Jam For The 2...   \n",
       "2  ENTERTAINMENT    Hugh Grant Marries For The First Time At Age 57   \n",
       "3  ENTERTAINMENT  Jim Carrey Blasts 'Castrato' Adam Schiff And D...   \n",
       "4  ENTERTAINMENT  Julianna Margulies Uses Donald Trump Poop Bags...   \n",
       "\n",
       "           authors                                               link  \\\n",
       "0  Melissa Jeltsen  https://www.huffingtonpost.com/entry/texas-ama...   \n",
       "1    Andy McDonald  https://www.huffingtonpost.com/entry/will-smit...   \n",
       "2       Ron Dicker  https://www.huffingtonpost.com/entry/hugh-gran...   \n",
       "3       Ron Dicker  https://www.huffingtonpost.com/entry/jim-carre...   \n",
       "4       Ron Dicker  https://www.huffingtonpost.com/entry/julianna-...   \n",
       "\n",
       "                                   short_description        date  \n",
       "0  She left her husband. He killed their children...  2018-05-26  \n",
       "1                           Of course it has a song.  2018-05-26  \n",
       "2  The actor and his longtime girlfriend Anna Ebe...  2018-05-26  \n",
       "3  The actor gives Dems an ass-kicking for not fi...  2018-05-26  \n",
       "4  The \"Dietland\" actress said using the bags is ...  2018-05-26  "
      ]
     },
     "execution_count": 2,
     "metadata": {},
     "output_type": "execute_result"
    }
   ],
   "source": [
    "list_ = []\n",
    "with open(r\"C:\\Users\\samue\\OneDrive - HKUST Connect\\year 2 spring\\UROP 1100\\data\\News_Category_Dataset_v2.json\") as files:\n",
    "    for file in files:\n",
    "        list_.append(json.loads(file))\n",
    "df = pd.DataFrame(list_)\n",
    "df.head()"
   ]
  },
  {
   "cell_type": "code",
   "execution_count": 3,
   "metadata": {},
   "outputs": [
    {
     "name": "stdout",
     "output_type": "stream",
     "text": [
      "training data: 140597\n",
      "testing data: 60256\n",
      "categories: 41\n"
     ]
    }
   ],
   "source": [
    "X_train, X_test, y_train, y_test = train_test_split(df.headline, df.category, test_size=0.3, random_state=42)\n",
    "print(f\"training data: {len(X_train)}\")\n",
    "print(f\"testing data: {len(X_test)}\")\n",
    "print(f\"categories: {len(set(y_test))}\")"
   ]
  },
  {
   "cell_type": "code",
   "execution_count": 4,
   "metadata": {},
   "outputs": [],
   "source": [
    "def train(pipeline, X_train, y_train, X_test, y_test):\n",
    "    # define pipeline\n",
    "    pipe = Pipeline(pipeline)\n",
    "\n",
    "    # train model\n",
    "    train_start = time.time()\n",
    "    pipe.fit(X_train, y_train)\n",
    "    train_time = time.time() - train_start\n",
    "\n",
    "    # test model\n",
    "    test_start = time.time()\n",
    "    score = pipe.score(X_test, y_test)\n",
    "    test_time = time.time() - test_start\n",
    "\n",
    "    model_name = '+'.join([pipe[0] for pipe in pipeline])\n",
    "\n",
    "    return model_name, score, train_time, test_time\n"
   ]
  },
  {
   "cell_type": "code",
   "execution_count": 5,
   "metadata": {},
   "outputs": [],
   "source": [
    "vectorizer = ('tfidf', TfidfVectorizer(stop_words=\"english\"))\n",
    "model = [\n",
    "('sgd', SGDClassifier()), \n",
    "('ridge', RidgeClassifier()),\n",
    "('perceptron', Perceptron()),\n",
    "('passiveaggressive', PassiveAggressiveClassifier()),\n",
    "('kNN', KNeighborsClassifier()),\n",
    "('svc', LinearSVC()),\n",
    "('multi_NB', MultinomialNB()),\n",
    "('CNB', ComplementNB()),\n",
    "('logreg', LogisticRegression())\n",
    "]"
   ]
  },
  {
   "cell_type": "code",
   "execution_count": 6,
   "metadata": {},
   "outputs": [
    {
     "name": "stderr",
     "output_type": "stream",
     "text": [
      " 89%|████████▉ | 8/9 [05:35<00:33, 33.08s/it]C:\\Users\\samue\\anaconda3\\envs\\urop\\lib\\site-packages\\sklearn\\linear_model\\_logistic.py:814: ConvergenceWarning: lbfgs failed to converge (status=1):\n",
      "STOP: TOTAL NO. of ITERATIONS REACHED LIMIT.\n",
      "\n",
      "Increase the number of iterations (max_iter) or scale the data as shown in:\n",
      "    https://scikit-learn.org/stable/modules/preprocessing.html\n",
      "Please also refer to the documentation for alternative solver options:\n",
      "    https://scikit-learn.org/stable/modules/linear_model.html#logistic-regression\n",
      "  n_iter_i = _check_optimize_result(\n",
      "100%|██████████| 9/9 [06:47<00:00, 45.28s/it]\n"
     ]
    }
   ],
   "source": [
    "results = []\n",
    "# loop models to get result\n",
    "for ind in tqdm(range(len(model))):\n",
    "    pipeline = [vectorizer, model[ind]]\n",
    "    result = train(pipeline, X_train, y_train, X_test, y_test)\n",
    "    results.append(result)"
   ]
  },
  {
   "cell_type": "code",
   "execution_count": 7,
   "metadata": {},
   "outputs": [
    {
     "data": {
      "text/html": [
       "<div>\n",
       "<style scoped>\n",
       "    .dataframe tbody tr th:only-of-type {\n",
       "        vertical-align: middle;\n",
       "    }\n",
       "\n",
       "    .dataframe tbody tr th {\n",
       "        vertical-align: top;\n",
       "    }\n",
       "\n",
       "    .dataframe thead th {\n",
       "        text-align: right;\n",
       "    }\n",
       "</style>\n",
       "<table border=\"1\" class=\"dataframe\">\n",
       "  <thead>\n",
       "    <tr style=\"text-align: right;\">\n",
       "      <th></th>\n",
       "      <th>model</th>\n",
       "      <th>accuracy</th>\n",
       "      <th>train_time</th>\n",
       "      <th>test_time</th>\n",
       "    </tr>\n",
       "    <tr>\n",
       "      <th>model</th>\n",
       "      <th></th>\n",
       "      <th></th>\n",
       "      <th></th>\n",
       "      <th></th>\n",
       "    </tr>\n",
       "  </thead>\n",
       "  <tbody>\n",
       "    <tr>\n",
       "      <th>tfidf+sgd</th>\n",
       "      <td>tfidf+sgd</td>\n",
       "      <td>0.546784</td>\n",
       "      <td>19.330003</td>\n",
       "      <td>0.909998</td>\n",
       "    </tr>\n",
       "    <tr>\n",
       "      <th>tfidf+ridge</th>\n",
       "      <td>tfidf+ridge</td>\n",
       "      <td>0.573354</td>\n",
       "      <td>17.956002</td>\n",
       "      <td>0.785999</td>\n",
       "    </tr>\n",
       "    <tr>\n",
       "      <th>tfidf+perceptron</th>\n",
       "      <td>tfidf+perceptron</td>\n",
       "      <td>0.491453</td>\n",
       "      <td>17.370009</td>\n",
       "      <td>1.302000</td>\n",
       "    </tr>\n",
       "    <tr>\n",
       "      <th>tfidf+passiveaggressive</th>\n",
       "      <td>tfidf+passiveaggressive</td>\n",
       "      <td>0.515915</td>\n",
       "      <td>38.022007</td>\n",
       "      <td>1.687997</td>\n",
       "    </tr>\n",
       "    <tr>\n",
       "      <th>tfidf+kNN</th>\n",
       "      <td>tfidf+kNN</td>\n",
       "      <td>0.161378</td>\n",
       "      <td>3.754996</td>\n",
       "      <td>213.774000</td>\n",
       "    </tr>\n",
       "    <tr>\n",
       "      <th>tfidf+svc</th>\n",
       "      <td>tfidf+svc</td>\n",
       "      <td>0.577801</td>\n",
       "      <td>12.917006</td>\n",
       "      <td>0.675994</td>\n",
       "    </tr>\n",
       "    <tr>\n",
       "      <th>tfidf+multi_NB</th>\n",
       "      <td>tfidf+multi_NB</td>\n",
       "      <td>0.412009</td>\n",
       "      <td>2.825998</td>\n",
       "      <td>0.677002</td>\n",
       "    </tr>\n",
       "    <tr>\n",
       "      <th>tfidf+CNB</th>\n",
       "      <td>tfidf+CNB</td>\n",
       "      <td>0.546087</td>\n",
       "      <td>2.944973</td>\n",
       "      <td>0.689003</td>\n",
       "    </tr>\n",
       "    <tr>\n",
       "      <th>tfidf+logreg</th>\n",
       "      <td>tfidf+logreg</td>\n",
       "      <td>0.564425</td>\n",
       "      <td>71.158469</td>\n",
       "      <td>0.742993</td>\n",
       "    </tr>\n",
       "  </tbody>\n",
       "</table>\n",
       "</div>"
      ],
      "text/plain": [
       "                                           model  accuracy  train_time  \\\n",
       "model                                                                    \n",
       "tfidf+sgd                              tfidf+sgd  0.546784   19.330003   \n",
       "tfidf+ridge                          tfidf+ridge  0.573354   17.956002   \n",
       "tfidf+perceptron                tfidf+perceptron  0.491453   17.370009   \n",
       "tfidf+passiveaggressive  tfidf+passiveaggressive  0.515915   38.022007   \n",
       "tfidf+kNN                              tfidf+kNN  0.161378    3.754996   \n",
       "tfidf+svc                              tfidf+svc  0.577801   12.917006   \n",
       "tfidf+multi_NB                    tfidf+multi_NB  0.412009    2.825998   \n",
       "tfidf+CNB                              tfidf+CNB  0.546087    2.944973   \n",
       "tfidf+logreg                        tfidf+logreg  0.564425   71.158469   \n",
       "\n",
       "                          test_time  \n",
       "model                                \n",
       "tfidf+sgd                  0.909998  \n",
       "tfidf+ridge                0.785999  \n",
       "tfidf+perceptron           1.302000  \n",
       "tfidf+passiveaggressive    1.687997  \n",
       "tfidf+kNN                213.774000  \n",
       "tfidf+svc                  0.675994  \n",
       "tfidf+multi_NB             0.677002  \n",
       "tfidf+CNB                  0.689003  \n",
       "tfidf+logreg               0.742993  "
      ]
     },
     "execution_count": 7,
     "metadata": {},
     "output_type": "execute_result"
    }
   ],
   "source": [
    "result_df = pd.DataFrame(results, columns=['model', 'accuracy', 'train_time', 'test_time'])\n",
    "result_df.index = result_df['model']\n",
    "result_df"
   ]
  },
  {
   "cell_type": "code",
   "execution_count": 8,
   "metadata": {},
   "outputs": [
    {
     "data": {
      "text/plain": [
       "<AxesSubplot:ylabel='model'>"
      ]
     },
     "execution_count": 8,
     "metadata": {},
     "output_type": "execute_result"
    },
    {
     "data": {
      "image/png": "[encoded data removed]",
      "text/plain": [
       "<Figure size 864x432 with 1 Axes>"
      ]
     },
     "metadata": {
      "needs_background": "light"
     },
     "output_type": "display_data"
    }
   ],
   "source": [
    "result_df.sort_values(by='accuracy').accuracy.plot(kind='barh', figsize=(12,6))"
   ]
  },
  {
   "cell_type": "code",
   "execution_count": 9,
   "metadata": {},
   "outputs": [],
   "source": [
    "result_df.to_csv(\"kaggle.csv\")"
   ]
  },
  {
   "cell_type": "code",
   "execution_count": null,
   "metadata": {},
   "outputs": [],
   "source": []
  }
 ],
 "metadata": {
  "interpreter": {
   "hash": "f00daf49d657fcaf7bdc5adbb3b43841207e448605290b2bd26bf112b8cca0df"
  },
  "kernelspec": {
   "display_name": "Python 3.8.12 ('urop')",
   "language": "python",
   "name": "python3"
  },
  "language_info": {
   "codemirror_mode": {
    "name": "ipython",
    "version": 3
   },
   "file_extension": ".py",
   "mimetype": "text/x-python",
   "name": "python",
   "nbconvert_exporter": "python",
   "pygments_lexer": "ipython3",
   "version": "3.8.12"
  },
  "orig_nbformat": 4
 },
 "nbformat": 4,
 "nbformat_minor": 2
}
