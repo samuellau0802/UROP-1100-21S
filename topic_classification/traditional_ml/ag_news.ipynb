{
 "cells": [
  {
   "cell_type": "code",
   "execution_count": 18,
   "metadata": {},
   "outputs": [],
   "source": [
    "import time\n",
    "import pandas as pd\n",
    "from tqdm import tqdm\n",
    "\n",
    "from sklearn.datasets import fetch_20newsgroups\n",
    "from sklearn.feature_extraction.text import TfidfVectorizer\n",
    "from sklearn.linear_model import RidgeClassifier\n",
    "from sklearn.pipeline import Pipeline\n",
    "from sklearn.svm import LinearSVC\n",
    "from sklearn.linear_model import SGDClassifier\n",
    "from sklearn.linear_model import Perceptron\n",
    "from sklearn.linear_model import PassiveAggressiveClassifier\n",
    "from sklearn.linear_model import LogisticRegression\n",
    "from sklearn.naive_bayes import ComplementNB, MultinomialNB\n",
    "from sklearn.neighbors import KNeighborsClassifier\n",
    "from sklearn.ensemble import RandomForestClassifier\n",
    "from sklearn.model_selection import train_test_split\n",
    "from datasets import load_dataset"
   ]
  },
  {
   "cell_type": "code",
   "execution_count": 19,
   "metadata": {},
   "outputs": [
    {
     "name": "stderr",
     "output_type": "stream",
     "text": [
      "Using custom data configuration default\n",
      "Reusing dataset ag_news (C:\\Users\\samue\\.cache\\huggingface\\datasets\\ag_news\\default\\0.0.0\\bc2bcb40336ace1a0374767fc29bb0296cdaf8a6da7298436239c54d79180548)\n",
      "100%|██████████| 2/2 [00:00<00:00, 80.01it/s]\n",
      "C:\\Users\\samue\\AppData\\Local\\Temp\\ipykernel_18648\\3132456092.py:2: FutureWarning: The frame.append method is deprecated and will be removed from pandas in a future version. Use pandas.concat instead.\n",
      "  data = pd.DataFrame(data['train']).append(pd.DataFrame(data['test']))\n"
     ]
    },
    {
     "data": {
      "text/html": [
       "<div>\n",
       "<style scoped>\n",
       "    .dataframe tbody tr th:only-of-type {\n",
       "        vertical-align: middle;\n",
       "    }\n",
       "\n",
       "    .dataframe tbody tr th {\n",
       "        vertical-align: top;\n",
       "    }\n",
       "\n",
       "    .dataframe thead th {\n",
       "        text-align: right;\n",
       "    }\n",
       "</style>\n",
       "<table border=\"1\" class=\"dataframe\">\n",
       "  <thead>\n",
       "    <tr style=\"text-align: right;\">\n",
       "      <th></th>\n",
       "      <th>text</th>\n",
       "      <th>label</th>\n",
       "    </tr>\n",
       "  </thead>\n",
       "  <tbody>\n",
       "    <tr>\n",
       "      <th>0</th>\n",
       "      <td>Wall St. Bears Claw Back Into the Black (Reute...</td>\n",
       "      <td>2</td>\n",
       "    </tr>\n",
       "    <tr>\n",
       "      <th>1</th>\n",
       "      <td>Carlyle Looks Toward Commercial Aerospace (Reu...</td>\n",
       "      <td>2</td>\n",
       "    </tr>\n",
       "    <tr>\n",
       "      <th>2</th>\n",
       "      <td>Oil and Economy Cloud Stocks' Outlook (Reuters...</td>\n",
       "      <td>2</td>\n",
       "    </tr>\n",
       "    <tr>\n",
       "      <th>3</th>\n",
       "      <td>Iraq Halts Oil Exports from Main Southern Pipe...</td>\n",
       "      <td>2</td>\n",
       "    </tr>\n",
       "    <tr>\n",
       "      <th>4</th>\n",
       "      <td>Oil prices soar to all-time record, posing new...</td>\n",
       "      <td>2</td>\n",
       "    </tr>\n",
       "  </tbody>\n",
       "</table>\n",
       "</div>"
      ],
      "text/plain": [
       "                                                text  label\n",
       "0  Wall St. Bears Claw Back Into the Black (Reute...      2\n",
       "1  Carlyle Looks Toward Commercial Aerospace (Reu...      2\n",
       "2  Oil and Economy Cloud Stocks' Outlook (Reuters...      2\n",
       "3  Iraq Halts Oil Exports from Main Southern Pipe...      2\n",
       "4  Oil prices soar to all-time record, posing new...      2"
      ]
     },
     "execution_count": 19,
     "metadata": {},
     "output_type": "execute_result"
    }
   ],
   "source": [
    "data = load_dataset(\"ag_news\")\n",
    "data = pd.DataFrame(data['train']).append(pd.DataFrame(data['test']))\n",
    "data.head(5)"
   ]
  },
  {
   "cell_type": "code",
   "execution_count": 20,
   "metadata": {},
   "outputs": [
    {
     "name": "stdout",
     "output_type": "stream",
     "text": [
      "training data: 89320\n",
      "testing data: 38280\n",
      "categories: 4\n"
     ]
    }
   ],
   "source": [
    "X_train, X_test, y_train, y_test = train_test_split(data.text, data.label, test_size=0.3, random_state=42)\n",
    "print(f\"training data: {len(X_train)}\")\n",
    "print(f\"testing data: {len(X_test)}\")\n",
    "print(f\"categories: {len(set(y_test))}\")"
   ]
  },
  {
   "cell_type": "code",
   "execution_count": 21,
   "metadata": {},
   "outputs": [],
   "source": [
    "def train(pipeline, X_train, y_train, X_test, y_test):\n",
    "    # define pipeline\n",
    "    pipe = Pipeline(pipeline)\n",
    "\n",
    "    # train model\n",
    "    train_start = time.time()\n",
    "    pipe.fit(X_train, y_train)\n",
    "    train_time = time.time() - train_start\n",
    "\n",
    "    # test model\n",
    "    test_start = time.time()\n",
    "    score = pipe.score(X_test, y_test)\n",
    "    test_time = time.time() - test_start\n",
    "\n",
    "    model_name = '+'.join([pipe[0] for pipe in pipeline])\n",
    "\n",
    "    return model_name, score, train_time, test_time\n"
   ]
  },
  {
   "cell_type": "code",
   "execution_count": 22,
   "metadata": {},
   "outputs": [],
   "source": [
    "vectorizer = ('tfidf', TfidfVectorizer(stop_words=\"english\"))\n",
    "model = [\n",
    "('sgd', SGDClassifier()), \n",
    "('ridge', RidgeClassifier()),\n",
    "('perceptron', Perceptron()),\n",
    "('passiveaggressive', PassiveAggressiveClassifier()),\n",
    "('kNN', KNeighborsClassifier()),\n",
    "('svc', LinearSVC()),\n",
    "('multi_NB', MultinomialNB()),\n",
    "('CNB', ComplementNB()),\n",
    "('logreg', LogisticRegression())\n",
    "]"
   ]
  },
  {
   "cell_type": "code",
   "execution_count": 23,
   "metadata": {},
   "outputs": [
    {
     "name": "stderr",
     "output_type": "stream",
     "text": [
      " 89%|████████▉ | 8/9 [03:33<00:23, 23.74s/it]C:\\Users\\samue\\anaconda3\\envs\\urop\\lib\\site-packages\\sklearn\\linear_model\\_logistic.py:814: ConvergenceWarning: lbfgs failed to converge (status=1):\n",
      "STOP: TOTAL NO. of ITERATIONS REACHED LIMIT.\n",
      "\n",
      "Increase the number of iterations (max_iter) or scale the data as shown in:\n",
      "    https://scikit-learn.org/stable/modules/preprocessing.html\n",
      "Please also refer to the documentation for alternative solver options:\n",
      "    https://scikit-learn.org/stable/modules/linear_model.html#logistic-regression\n",
      "  n_iter_i = _check_optimize_result(\n",
      "100%|██████████| 9/9 [03:50<00:00, 25.58s/it]\n"
     ]
    }
   ],
   "source": [
    "results = []\n",
    "# loop models to get result\n",
    "for ind in tqdm(range(len(model))):\n",
    "    pipeline = [vectorizer, model[ind]]\n",
    "    result = train(pipeline, X_train, y_train, X_test, y_test)\n",
    "    results.append(result)"
   ]
  },
  {
   "cell_type": "code",
   "execution_count": 24,
   "metadata": {},
   "outputs": [
    {
     "data": {
      "text/html": [
       "<div>\n",
       "<style scoped>\n",
       "    .dataframe tbody tr th:only-of-type {\n",
       "        vertical-align: middle;\n",
       "    }\n",
       "\n",
       "    .dataframe tbody tr th {\n",
       "        vertical-align: top;\n",
       "    }\n",
       "\n",
       "    .dataframe thead th {\n",
       "        text-align: right;\n",
       "    }\n",
       "</style>\n",
       "<table border=\"1\" class=\"dataframe\">\n",
       "  <thead>\n",
       "    <tr style=\"text-align: right;\">\n",
       "      <th></th>\n",
       "      <th>model</th>\n",
       "      <th>accuracy</th>\n",
       "      <th>train_time</th>\n",
       "      <th>test_time</th>\n",
       "    </tr>\n",
       "    <tr>\n",
       "      <th>model</th>\n",
       "      <th></th>\n",
       "      <th></th>\n",
       "      <th></th>\n",
       "      <th></th>\n",
       "    </tr>\n",
       "  </thead>\n",
       "  <tbody>\n",
       "    <tr>\n",
       "      <th>tfidf+sgd</th>\n",
       "      <td>tfidf+sgd</td>\n",
       "      <td>0.912853</td>\n",
       "      <td>7.170992</td>\n",
       "      <td>1.400001</td>\n",
       "    </tr>\n",
       "    <tr>\n",
       "      <th>tfidf+ridge</th>\n",
       "      <td>tfidf+ridge</td>\n",
       "      <td>0.918130</td>\n",
       "      <td>5.170001</td>\n",
       "      <td>1.272005</td>\n",
       "    </tr>\n",
       "    <tr>\n",
       "      <th>tfidf+perceptron</th>\n",
       "      <td>tfidf+perceptron</td>\n",
       "      <td>0.886207</td>\n",
       "      <td>3.967009</td>\n",
       "      <td>1.323993</td>\n",
       "    </tr>\n",
       "    <tr>\n",
       "      <th>tfidf+passiveaggressive</th>\n",
       "      <td>tfidf+passiveaggressive</td>\n",
       "      <td>0.888271</td>\n",
       "      <td>5.272006</td>\n",
       "      <td>1.240002</td>\n",
       "    </tr>\n",
       "    <tr>\n",
       "      <th>tfidf+kNN</th>\n",
       "      <td>tfidf+kNN</td>\n",
       "      <td>0.899216</td>\n",
       "      <td>3.345004</td>\n",
       "      <td>162.678013</td>\n",
       "    </tr>\n",
       "    <tr>\n",
       "      <th>tfidf+svc</th>\n",
       "      <td>tfidf+svc</td>\n",
       "      <td>0.916902</td>\n",
       "      <td>9.588992</td>\n",
       "      <td>1.457007</td>\n",
       "    </tr>\n",
       "    <tr>\n",
       "      <th>tfidf+multi_NB</th>\n",
       "      <td>tfidf+multi_NB</td>\n",
       "      <td>0.907863</td>\n",
       "      <td>3.542005</td>\n",
       "      <td>1.664995</td>\n",
       "    </tr>\n",
       "    <tr>\n",
       "      <th>tfidf+CNB</th>\n",
       "      <td>tfidf+CNB</td>\n",
       "      <td>0.906426</td>\n",
       "      <td>3.319000</td>\n",
       "      <td>1.315002</td>\n",
       "    </tr>\n",
       "    <tr>\n",
       "      <th>tfidf+logreg</th>\n",
       "      <td>tfidf+logreg</td>\n",
       "      <td>0.917215</td>\n",
       "      <td>15.212005</td>\n",
       "      <td>1.252993</td>\n",
       "    </tr>\n",
       "  </tbody>\n",
       "</table>\n",
       "</div>"
      ],
      "text/plain": [
       "                                           model  accuracy  train_time  \\\n",
       "model                                                                    \n",
       "tfidf+sgd                              tfidf+sgd  0.912853    7.170992   \n",
       "tfidf+ridge                          tfidf+ridge  0.918130    5.170001   \n",
       "tfidf+perceptron                tfidf+perceptron  0.886207    3.967009   \n",
       "tfidf+passiveaggressive  tfidf+passiveaggressive  0.888271    5.272006   \n",
       "tfidf+kNN                              tfidf+kNN  0.899216    3.345004   \n",
       "tfidf+svc                              tfidf+svc  0.916902    9.588992   \n",
       "tfidf+multi_NB                    tfidf+multi_NB  0.907863    3.542005   \n",
       "tfidf+CNB                              tfidf+CNB  0.906426    3.319000   \n",
       "tfidf+logreg                        tfidf+logreg  0.917215   15.212005   \n",
       "\n",
       "                          test_time  \n",
       "model                                \n",
       "tfidf+sgd                  1.400001  \n",
       "tfidf+ridge                1.272005  \n",
       "tfidf+perceptron           1.323993  \n",
       "tfidf+passiveaggressive    1.240002  \n",
       "tfidf+kNN                162.678013  \n",
       "tfidf+svc                  1.457007  \n",
       "tfidf+multi_NB             1.664995  \n",
       "tfidf+CNB                  1.315002  \n",
       "tfidf+logreg               1.252993  "
      ]
     },
     "execution_count": 24,
     "metadata": {},
     "output_type": "execute_result"
    }
   ],
   "source": [
    "result_df = pd.DataFrame(results, columns=['model', 'accuracy', 'train_time', 'test_time'])\n",
    "result_df.index = result_df['model']\n",
    "result_df"
   ]
  },
  {
   "cell_type": "code",
   "execution_count": 25,
   "metadata": {},
   "outputs": [
    {
     "data": {
      "text/plain": [
       "<AxesSubplot:ylabel='model'>"
      ]
     },
     "execution_count": 25,
     "metadata": {},
     "output_type": "execute_result"
    },
    {
     "data": {
      "image/png": "[encoded data removed]",
      "text/plain": [
       "<Figure size 864x432 with 1 Axes>"
      ]
     },
     "metadata": {
      "needs_background": "light"
     },
     "output_type": "display_data"
    }
   ],
   "source": [
    "result_df.sort_values(by='accuracy').accuracy.plot(kind='barh', figsize=(12,6))"
   ]
  },
  {
   "cell_type": "code",
   "execution_count": 26,
   "metadata": {},
   "outputs": [],
   "source": [
    "result_df.to_csv(\"agnews.csv\")"
   ]
  },
  {
   "cell_type": "code",
   "execution_count": null,
   "metadata": {},
   "outputs": [],
   "source": []
  }
 ],
 "metadata": {
  "interpreter": {
   "hash": "f00daf49d657fcaf7bdc5adbb3b43841207e448605290b2bd26bf112b8cca0df"
  },
  "kernelspec": {
   "display_name": "Python 3.8.12 ('urop')",
   "language": "python",
   "name": "python3"
  },
  "language_info": {
   "codemirror_mode": {
    "name": "ipython",
    "version": 3
   },
   "file_extension": ".py",
   "mimetype": "text/x-python",
   "name": "python",
   "nbconvert_exporter": "python",
   "pygments_lexer": "ipython3",
   "version": "3.8.12"
  },
  "orig_nbformat": 4
 },
 "nbformat": 4,
 "nbformat_minor": 2
}
