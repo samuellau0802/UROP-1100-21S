{
 "cells": [
  {
   "cell_type": "markdown",
   "metadata": {},
   "source": [
    "### Cluster Similar Categories"
   ]
  },
  {
   "cell_type": "code",
   "execution_count": 11,
   "metadata": {},
   "outputs": [
    {
     "data": {
      "text/plain": [
       "[['ARTS', 'ARTS & CULTURE', 'CULTURE & ARTS'],\n",
       " ['WORLD NEWS'],\n",
       " ['POLITICS', 'RELIGION'],\n",
       " ['PARENTING', 'PARENTS'],\n",
       " ['BLACK VOICES', 'LATINO VOICES', 'QUEER VOICES'],\n",
       " ['HEALTHY LIVING', 'WELLNESS'],\n",
       " ['TASTE'],\n",
       " ['STYLE', 'STYLE & BEAUTY'],\n",
       " ['SPORTS'],\n",
       " ['COMEDY', 'ENTERTAINMENT'],\n",
       " ['WEIRD NEWS'],\n",
       " ['GREEN'],\n",
       " ['BUSINESS'],\n",
       " ['TECH'],\n",
       " ['TRAVEL'],\n",
       " ['FIFTY'],\n",
       " ['WOMEN'],\n",
       " ['IMPACT'],\n",
       " ['THE WORLDPOST', 'WORLDPOST'],\n",
       " ['COLLEGE', 'EDUCATION'],\n",
       " ['DIVORCE'],\n",
       " ['WEDDINGS'],\n",
       " ['MEDIA'],\n",
       " ['SCIENCE'],\n",
       " ['FOOD & DRINK'],\n",
       " ['ENVIRONMENT'],\n",
       " ['MONEY'],\n",
       " ['CRIME'],\n",
       " ['HOME & LIVING'],\n",
       " ['GOOD NEWS']]"
      ]
     },
     "execution_count": 11,
     "metadata": {},
     "output_type": "execute_result"
    }
   ],
   "source": [
    "from sentence_transformers import SentenceTransformer\n",
    "from sklearn.cluster import KMeans\n",
    "\n",
    "categories = ['ARTS',\n",
    " 'ARTS & CULTURE',\n",
    " 'BLACK VOICES',\n",
    " 'BUSINESS',\n",
    " 'COLLEGE',\n",
    " 'COMEDY',\n",
    " 'CRIME',\n",
    " 'CULTURE & ARTS',\n",
    " 'DIVORCE',\n",
    " 'EDUCATION',\n",
    " 'ENTERTAINMENT',\n",
    " 'ENVIRONMENT',\n",
    " 'FIFTY',\n",
    " 'FOOD & DRINK',\n",
    " 'GOOD NEWS',\n",
    " 'GREEN',\n",
    " 'HEALTHY LIVING',\n",
    " 'HOME & LIVING',\n",
    " 'IMPACT',\n",
    " 'LATINO VOICES',\n",
    " 'MEDIA',\n",
    " 'MONEY',\n",
    " 'PARENTING',\n",
    " 'PARENTS',\n",
    " 'POLITICS',\n",
    " 'QUEER VOICES',\n",
    " 'RELIGION',\n",
    " 'SCIENCE',\n",
    " 'SPORTS',\n",
    " 'STYLE',\n",
    " 'STYLE & BEAUTY',\n",
    " 'TASTE',\n",
    " 'TECH',\n",
    " 'THE WORLDPOST',\n",
    " 'TRAVEL',\n",
    " 'WEDDINGS',\n",
    " 'WEIRD NEWS',\n",
    " 'WELLNESS',\n",
    " 'WOMEN',\n",
    " 'WORLD NEWS',\n",
    " 'WORLDPOST']\n",
    "\n",
    "\n",
    "embedder = SentenceTransformer('all-mpnet-base-v2', device='cuda')\n",
    "\n",
    "corpus_embeddings = embedder.encode(categories)\n",
    "\n",
    "# Perform kmean clustering\n",
    "num_clusters = 30\n",
    "clustering_model = KMeans(n_clusters=num_clusters)\n",
    "clustering_model.fit(corpus_embeddings)\n",
    "cluster_assignment = clustering_model.labels_\n",
    "\n",
    "clustered_sentences = [[] for i in range(num_clusters)]\n",
    "for sentence_id, cluster_id in enumerate(cluster_assignment):\n",
    "    clustered_sentences[cluster_id].append(categories[sentence_id])\n",
    "\n",
    "clustered_sentences\n"
   ]
  },
  {
   "cell_type": "code",
   "execution_count": 22,
   "metadata": {},
   "outputs": [
    {
     "data": {
      "text/html": [
       "<div>\n",
       "<style scoped>\n",
       "    .dataframe tbody tr th:only-of-type {\n",
       "        vertical-align: middle;\n",
       "    }\n",
       "\n",
       "    .dataframe tbody tr th {\n",
       "        vertical-align: top;\n",
       "    }\n",
       "\n",
       "    .dataframe thead th {\n",
       "        text-align: right;\n",
       "    }\n",
       "</style>\n",
       "<table border=\"1\" class=\"dataframe\">\n",
       "  <thead>\n",
       "    <tr style=\"text-align: right;\">\n",
       "      <th></th>\n",
       "      <th>category</th>\n",
       "      <th>headline</th>\n",
       "      <th>authors</th>\n",
       "      <th>link</th>\n",
       "      <th>short_description</th>\n",
       "      <th>date</th>\n",
       "    </tr>\n",
       "  </thead>\n",
       "  <tbody>\n",
       "    <tr>\n",
       "      <th>0</th>\n",
       "      <td>CRIME</td>\n",
       "      <td>There Were 2 Mass Shootings In Texas Last Week...</td>\n",
       "      <td>Melissa Jeltsen</td>\n",
       "      <td>https://www.huffingtonpost.com/entry/texas-ama...</td>\n",
       "      <td>She left her husband. He killed their children...</td>\n",
       "      <td>2018-05-26</td>\n",
       "    </tr>\n",
       "    <tr>\n",
       "      <th>1</th>\n",
       "      <td>ENTERTAINMENT</td>\n",
       "      <td>Will Smith Joins Diplo And Nicky Jam For The 2...</td>\n",
       "      <td>Andy McDonald</td>\n",
       "      <td>https://www.huffingtonpost.com/entry/will-smit...</td>\n",
       "      <td>Of course it has a song.</td>\n",
       "      <td>2018-05-26</td>\n",
       "    </tr>\n",
       "    <tr>\n",
       "      <th>2</th>\n",
       "      <td>ENTERTAINMENT</td>\n",
       "      <td>Hugh Grant Marries For The First Time At Age 57</td>\n",
       "      <td>Ron Dicker</td>\n",
       "      <td>https://www.huffingtonpost.com/entry/hugh-gran...</td>\n",
       "      <td>The actor and his longtime girlfriend Anna Ebe...</td>\n",
       "      <td>2018-05-26</td>\n",
       "    </tr>\n",
       "    <tr>\n",
       "      <th>3</th>\n",
       "      <td>ENTERTAINMENT</td>\n",
       "      <td>Jim Carrey Blasts 'Castrato' Adam Schiff And D...</td>\n",
       "      <td>Ron Dicker</td>\n",
       "      <td>https://www.huffingtonpost.com/entry/jim-carre...</td>\n",
       "      <td>The actor gives Dems an ass-kicking for not fi...</td>\n",
       "      <td>2018-05-26</td>\n",
       "    </tr>\n",
       "    <tr>\n",
       "      <th>4</th>\n",
       "      <td>ENTERTAINMENT</td>\n",
       "      <td>Julianna Margulies Uses Donald Trump Poop Bags...</td>\n",
       "      <td>Ron Dicker</td>\n",
       "      <td>https://www.huffingtonpost.com/entry/julianna-...</td>\n",
       "      <td>The \"Dietland\" actress said using the bags is ...</td>\n",
       "      <td>2018-05-26</td>\n",
       "    </tr>\n",
       "  </tbody>\n",
       "</table>\n",
       "</div>"
      ],
      "text/plain": [
       "        category                                           headline  \\\n",
       "0          CRIME  There Were 2 Mass Shootings In Texas Last Week...   \n",
       "1  ENTERTAINMENT  Will Smith Joins Diplo And Nicky Jam For The 2...   \n",
       "2  ENTERTAINMENT    Hugh Grant Marries For The First Time At Age 57   \n",
       "3  ENTERTAINMENT  Jim Carrey Blasts 'Castrato' Adam Schiff And D...   \n",
       "4  ENTERTAINMENT  Julianna Margulies Uses Donald Trump Poop Bags...   \n",
       "\n",
       "           authors                                               link  \\\n",
       "0  Melissa Jeltsen  https://www.huffingtonpost.com/entry/texas-ama...   \n",
       "1    Andy McDonald  https://www.huffingtonpost.com/entry/will-smit...   \n",
       "2       Ron Dicker  https://www.huffingtonpost.com/entry/hugh-gran...   \n",
       "3       Ron Dicker  https://www.huffingtonpost.com/entry/jim-carre...   \n",
       "4       Ron Dicker  https://www.huffingtonpost.com/entry/julianna-...   \n",
       "\n",
       "                                   short_description        date  \n",
       "0  She left her husband. He killed their children...  2018-05-26  \n",
       "1                           Of course it has a song.  2018-05-26  \n",
       "2  The actor and his longtime girlfriend Anna Ebe...  2018-05-26  \n",
       "3  The actor gives Dems an ass-kicking for not fi...  2018-05-26  \n",
       "4  The \"Dietland\" actress said using the bags is ...  2018-05-26  "
      ]
     },
     "execution_count": 22,
     "metadata": {},
     "output_type": "execute_result"
    }
   ],
   "source": [
    "import json\n",
    "import pandas as pd\n",
    "list_ = []\n",
    "with open(r\"C:\\Users\\samue\\OneDrive - HKUST Connect\\year 2 spring\\UROP 1100\\data\\News_Category_Dataset_v2.json\") as files:\n",
    "    for file in files:\n",
    "        list_.append(json.loads(file))\n",
    "df = pd.DataFrame(list_)\n",
    "df.head()"
   ]
  },
  {
   "cell_type": "code",
   "execution_count": 12,
   "metadata": {},
   "outputs": [
    {
     "data": {
      "text/plain": [
       "[['ARTS', 'ARTS & CULTURE', 'CULTURE & ARTS'],\n",
       " ['POLITICS', 'RELIGION'],\n",
       " ['PARENTING', 'PARENTS'],\n",
       " ['BLACK VOICES', 'LATINO VOICES', 'QUEER VOICES'],\n",
       " ['HEALTHY LIVING', 'WELLNESS'],\n",
       " ['STYLE', 'STYLE & BEAUTY'],\n",
       " ['COMEDY', 'ENTERTAINMENT'],\n",
       " ['THE WORLDPOST', 'WORLDPOST'],\n",
       " ['COLLEGE', 'EDUCATION']]"
      ]
     },
     "execution_count": 12,
     "metadata": {},
     "output_type": "execute_result"
    }
   ],
   "source": [
    "[cluster for cluster in clustered_sentences if len(cluster) > 1]"
   ]
  },
  {
   "cell_type": "code",
   "execution_count": 23,
   "metadata": {},
   "outputs": [],
   "source": [
    "clusters = [['ARTS', 'ARTS & CULTURE', 'CULTURE & ARTS'],\n",
    " ['POLITICS', 'RELIGION'],\n",
    " ['PARENTING', 'PARENTS'],\n",
    " ['BLACK VOICES', 'LATINO VOICES', 'QUEER VOICES'],\n",
    " ['HEALTHY LIVING', 'WELLNESS'],\n",
    " ['STYLE', 'STYLE & BEAUTY'],\n",
    " ['COMEDY', 'ENTERTAINMENT'],\n",
    " ['WORLD NEWS', 'THE WORLDPOST', 'WORLDPOST'],\n",
    " ['COLLEGE', 'EDUCATION']]\n",
    "\n",
    "for ind, cluster in enumerate(clusters):\n",
    "    for c in cluster[1:]:\n",
    "        df['category'] = df['category'].str.replace(c, cluster[0])"
   ]
  },
  {
   "cell_type": "code",
   "execution_count": 24,
   "metadata": {},
   "outputs": [
    {
     "data": {
      "text/plain": [
       "POLITICS          35295\n",
       "HEALTHY LIVING    24521\n",
       "COMEDY            21233\n",
       "PARENTING         12632\n",
       "BLACK VOICES      11971\n",
       "STYLE             11903\n",
       "TRAVEL             9887\n",
       "WORLD NEWS         8420\n",
       "FOOD & DRINK       6226\n",
       "BUSINESS           5937\n",
       "SPORTS             4884\n",
       "HOME & LIVING      4195\n",
       "ARTS               3878\n",
       "WEDDINGS           3651\n",
       "WOMEN              3490\n",
       "IMPACT             3459\n",
       "DIVORCE            3426\n",
       "CRIME              3405\n",
       "MEDIA              2815\n",
       "WEIRD NEWS         2670\n",
       "GREEN              2622\n",
       "SCIENCE            2178\n",
       "COLLEGE            2148\n",
       "TASTE              2096\n",
       "TECH               2082\n",
       "MONEY              1707\n",
       "FIFTY              1401\n",
       "GOOD NEWS          1398\n",
       "ENVIRONMENT        1323\n",
       "Name: category, dtype: int64"
      ]
     },
     "execution_count": 24,
     "metadata": {},
     "output_type": "execute_result"
    }
   ],
   "source": [
    "df['category'].value_counts()"
   ]
  },
  {
   "cell_type": "code",
   "execution_count": 25,
   "metadata": {},
   "outputs": [
    {
     "data": {
      "text/plain": [
       "29"
      ]
     },
     "execution_count": 25,
     "metadata": {},
     "output_type": "execute_result"
    }
   ],
   "source": []
  },
  {
   "cell_type": "code",
   "execution_count": null,
   "metadata": {},
   "outputs": [],
   "source": []
  }
 ],
 "metadata": {
  "interpreter": {
   "hash": "f00daf49d657fcaf7bdc5adbb3b43841207e448605290b2bd26bf112b8cca0df"
  },
  "kernelspec": {
   "display_name": "Python 3.8.12 ('urop')",
   "language": "python",
   "name": "python3"
  },
  "language_info": {
   "codemirror_mode": {
    "name": "ipython",
    "version": 3
   },
   "file_extension": ".py",
   "mimetype": "text/x-python",
   "name": "python",
   "nbconvert_exporter": "python",
   "pygments_lexer": "ipython3",
   "version": "3.8.12"
  },
  "orig_nbformat": 4
 },
 "nbformat": 4,
 "nbformat_minor": 2
}
