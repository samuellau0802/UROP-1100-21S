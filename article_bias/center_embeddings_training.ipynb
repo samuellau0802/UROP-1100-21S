{
 "cells": [
  {
   "cell_type": "markdown",
   "metadata": {},
   "source": [
    "### Train a word2vec model using Keras\n",
    "[reference link](https://www.tensorflow.org/tutorials/text/word2vec)"
   ]
  },
  {
   "cell_type": "code",
   "execution_count": 1,
   "metadata": {},
   "outputs": [],
   "source": [
    "import io\n",
    "import re\n",
    "import string\n",
    "import tqdm\n",
    "\n",
    "import numpy as np\n",
    "\n",
    "import tensorflow as tf\n",
    "from tensorflow.keras import layers"
   ]
  },
  {
   "cell_type": "code",
   "execution_count": 2,
   "metadata": {},
   "outputs": [],
   "source": [
    "%load_ext tensorboard\n",
    "SEED = 42\n",
    "AUTOTUNE = tf.data.AUTOTUNE"
   ]
  },
  {
   "cell_type": "code",
   "execution_count": 3,
   "metadata": {},
   "outputs": [],
   "source": [
    "# Generates skip-gram pairs with negative sampling for a list of sequences\n",
    "# (int-encoded sentences) based on window size, number of negative samples\n",
    "# and vocabulary size.\n",
    "def generate_training_data(sequences, window_size, num_ns, vocab_size, seed):\n",
    "  # Elements of each training example are appended to these lists.\n",
    "  targets, contexts, labels = [], [], []\n",
    "\n",
    "  # Build the sampling table for `vocab_size` tokens.\n",
    "  sampling_table = tf.keras.preprocessing.sequence.make_sampling_table(vocab_size)\n",
    "\n",
    "  # Iterate over all sequences (sentences) in the dataset.\n",
    "  for sequence in tqdm.tqdm(sequences):\n",
    "\n",
    "    # Generate positive skip-gram pairs for a sequence (sentence).\n",
    "    positive_skip_grams, _ = tf.keras.preprocessing.sequence.skipgrams(\n",
    "          sequence,\n",
    "          vocabulary_size=vocab_size,\n",
    "          sampling_table=sampling_table,\n",
    "          window_size=window_size,\n",
    "          negative_samples=0)\n",
    "\n",
    "    # Iterate over each positive skip-gram pair to produce training examples\n",
    "    # with a positive context word and negative samples.\n",
    "    for target_word, context_word in positive_skip_grams:\n",
    "      context_class = tf.expand_dims(\n",
    "          tf.constant([context_word], dtype=\"int64\"), 1)\n",
    "      negative_sampling_candidates, _, _ = tf.random.log_uniform_candidate_sampler(\n",
    "          true_classes=context_class,\n",
    "          num_true=1,\n",
    "          num_sampled=num_ns,\n",
    "          unique=True,\n",
    "          range_max=vocab_size,\n",
    "          seed=SEED,\n",
    "          name=\"negative_sampling\")\n",
    "\n",
    "      # Build context and label vectors (for one target word)\n",
    "      negative_sampling_candidates = tf.expand_dims(\n",
    "          negative_sampling_candidates, 1)\n",
    "\n",
    "      context = tf.concat([context_class, negative_sampling_candidates], 0)\n",
    "      label = tf.constant([1] + [0]*num_ns, dtype=\"int64\")\n",
    "\n",
    "      # Append each element from the training example to global lists.\n",
    "      targets.append(target_word)\n",
    "      contexts.append(context)\n",
    "      labels.append(label)\n",
    "\n",
    "  return targets, contexts, labels"
   ]
  },
  {
   "cell_type": "code",
   "execution_count": 4,
   "metadata": {},
   "outputs": [],
   "source": [
    "path_to_file = r\"center.txt\"\n",
    "# Use the non empty lines to construct a tf.data.TextLineDataset object for the next step\n",
    "text_ds = tf.data.TextLineDataset(path_to_file).filter(lambda x: tf.cast(tf.strings.length(x), bool))"
   ]
  },
  {
   "cell_type": "code",
   "execution_count": 5,
   "metadata": {},
   "outputs": [],
   "source": [
    "# lowercase the text and remove punctuation.\n",
    "def custom_standardization(input_data):\n",
    "  lowercase = tf.strings.lower(input_data)\n",
    "  return tf.strings.regex_replace(lowercase,\n",
    "                                  '[%s]' % re.escape(string.punctuation), '')\n",
    "\n",
    "\n",
    "# Define the vocabulary size and the number of words in a sequence.\n",
    "vocab_size = 8192\n",
    "sequence_length = 10\n",
    "\n",
    "# Use the `TextVectorization` layer to normalize, split, and map strings to\n",
    "# integers. Set the `output_sequence_length` length to pad all samples to the\n",
    "# same length.\n",
    "vectorize_layer = layers.TextVectorization(\n",
    "    standardize=custom_standardization,\n",
    "    max_tokens=vocab_size,\n",
    "    output_mode='int',\n",
    "    output_sequence_length=sequence_length)"
   ]
  },
  {
   "cell_type": "code",
   "execution_count": 6,
   "metadata": {},
   "outputs": [],
   "source": [
    "# Call TextVectorization.adapt on the text dataset to create vocabulary\n",
    "vectorize_layer.adapt(text_ds.batch(1024))"
   ]
  },
  {
   "cell_type": "code",
   "execution_count": 7,
   "metadata": {},
   "outputs": [
    {
     "name": "stdout",
     "output_type": "stream",
     "text": [
      "['', '[UNK]', 'the', 'to', 'of', 'a', 'and', 'in', 'on', 'said', 'that', 'for', 'by', 'trump', 'he', 'with', 'u', 's', 'is', 'as']\n"
     ]
    }
   ],
   "source": [
    "# Save the created vocabulary for reference.\n",
    "inverse_vocab = vectorize_layer.get_vocabulary()\n",
    "print(inverse_vocab[:20])"
   ]
  },
  {
   "cell_type": "code",
   "execution_count": 8,
   "metadata": {},
   "outputs": [],
   "source": [
    "# Vectorize the data in text_ds.\n",
    "text_vector_ds = text_ds.batch(1024).prefetch(AUTOTUNE).map(vectorize_layer).unbatch()"
   ]
  },
  {
   "cell_type": "code",
   "execution_count": 9,
   "metadata": {},
   "outputs": [
    {
     "name": "stdout",
     "output_type": "stream",
     "text": [
      "12160\n"
     ]
    }
   ],
   "source": [
    "sequences = list(text_vector_ds.as_numpy_iterator())\n",
    "print(len(sequences))"
   ]
  },
  {
   "cell_type": "code",
   "execution_count": 10,
   "metadata": {},
   "outputs": [
    {
     "name": "stdout",
     "output_type": "stream",
     "text": [
      "[  13    1  279   11 1353  210    7    1 2574 1088] => ['trump', '[UNK]', 'putin', 'for', 'holding', 'back', 'in', '[UNK]', 'spy', 'dispute']\n",
      "[2170  940  225    1    7    2  200 1180   91   12] => ['russians', 'leave', 'country', '[UNK]', 'in', 'the', 'us', 'ordered', 'out', 'by']\n",
      "[  33 4050  516 3503    1   15    1   19    5   33] => ['new', 'york’s', 'times', 'square', '[UNK]', 'with', '[UNK]', 'as', 'a', 'new']\n",
      "[  13    1    1  141 1439 6901    7    1 1503  299] => ['trump', '[UNK]', '[UNK]', 'party', 'shows', 'rift', 'in', '[UNK]', 'movement', 'supporters']\n",
      "[  13 1113  379  200  374    8  151  127   27    1] => ['trump', 'aide', 'says', 'us', 'sanctions', 'on', 'russia', 'may', 'be', '[UNK]']\n"
     ]
    }
   ],
   "source": [
    "for seq in sequences[:5]:\n",
    "  print(f\"{seq} => {[inverse_vocab[i] for i in seq]}\")"
   ]
  },
  {
   "cell_type": "code",
   "execution_count": 11,
   "metadata": {},
   "outputs": [
    {
     "name": "stderr",
     "output_type": "stream",
     "text": [
      "100%|██████████| 12160/12160 [01:15<00:00, 160.25it/s]\n"
     ]
    },
    {
     "name": "stdout",
     "output_type": "stream",
     "text": [
      "\n",
      "\n",
      "targets.shape: (80480,)\n",
      "contexts.shape: (80480, 5)\n",
      "labels.shape: (80480, 5)\n"
     ]
    }
   ],
   "source": [
    "# sequences is now a list of int encoded sentences. \n",
    "# Just call the generate_training_data function defined earlier to generate training examples for the word2vec model. \n",
    "# To recap, the function iterates over each word from each sequence to collect positive and negative context words. \n",
    "# Length of target, contexts and labels should be the same, representing the total number of training examples.\n",
    "targets, contexts, labels = generate_training_data(\n",
    "    sequences=sequences,\n",
    "    window_size=2,\n",
    "    num_ns=4,\n",
    "    vocab_size=vocab_size,\n",
    "    seed=SEED)\n",
    "\n",
    "targets = np.array(targets)\n",
    "contexts = np.array(contexts)[:,:,0]\n",
    "labels = np.array(labels)\n",
    "\n",
    "print('\\n')\n",
    "print(f\"targets.shape: {targets.shape}\")\n",
    "print(f\"contexts.shape: {contexts.shape}\")\n",
    "print(f\"labels.shape: {labels.shape}\")"
   ]
  },
  {
   "cell_type": "code",
   "execution_count": 12,
   "metadata": {},
   "outputs": [
    {
     "name": "stdout",
     "output_type": "stream",
     "text": [
      "<PrefetchDataset element_spec=((TensorSpec(shape=(1024,), dtype=tf.int64, name=None), TensorSpec(shape=(1024, 5), dtype=tf.int64, name=None)), TensorSpec(shape=(1024, 5), dtype=tf.int64, name=None))>\n"
     ]
    }
   ],
   "source": [
    "# To perform efficient batching for the potentially large number of training examples, use the tf.data.Dataset API. \n",
    "# After this step, you would have a tf.data.Dataset object of (target_word, context_word), (label) elements to train your word2vec model\n",
    "BATCH_SIZE = 1024\n",
    "BUFFER_SIZE = 10000\n",
    "dataset = tf.data.Dataset.from_tensor_slices(((targets, contexts), labels))\n",
    "dataset = dataset.shuffle(BUFFER_SIZE).batch(BATCH_SIZE, drop_remainder=True)\n",
    "dataset = dataset.cache().prefetch(buffer_size=AUTOTUNE)\n",
    "print(dataset)"
   ]
  },
  {
   "cell_type": "code",
   "execution_count": 13,
   "metadata": {},
   "outputs": [],
   "source": [
    "num_ns = 4\n",
    "class Word2Vec(tf.keras.Model):\n",
    "  def __init__(self, vocab_size, embedding_dim):\n",
    "    super(Word2Vec, self).__init__()\n",
    "    self.target_embedding = layers.Embedding(vocab_size,\n",
    "                                      embedding_dim,\n",
    "                                      input_length=1,\n",
    "                                      name=\"w2v_embedding\")\n",
    "    self.context_embedding = layers.Embedding(vocab_size,\n",
    "                                       embedding_dim,\n",
    "                                       input_length=num_ns+1)\n",
    "\n",
    "  def call(self, pair):\n",
    "    target, context = pair\n",
    "    # target: (batch, dummy?)  # The dummy axis doesn't exist in TF2.7+\n",
    "    # context: (batch, context)\n",
    "    if len(target.shape) == 2:\n",
    "      target = tf.squeeze(target, axis=1)\n",
    "    # target: (batch,)\n",
    "    word_emb = self.target_embedding(target)\n",
    "    # word_emb: (batch, embed)\n",
    "    context_emb = self.context_embedding(context)\n",
    "    # context_emb: (batch, context, embed)\n",
    "    dots = tf.einsum('be,bce->bc', word_emb, context_emb)\n",
    "    # dots: (batch, context)\n",
    "    return dots"
   ]
  },
  {
   "cell_type": "code",
   "execution_count": 17,
   "metadata": {},
   "outputs": [],
   "source": [
    "# Compile the model with the tf.keras.optimizers.Adam optimizer\n",
    "embedding_dim = 512\n",
    "word2vec = Word2Vec(vocab_size, embedding_dim)\n",
    "word2vec.compile(optimizer='adam',\n",
    "                 loss=tf.keras.losses.CategoricalCrossentropy(from_logits=True),\n",
    "                 metrics=['accuracy'])"
   ]
  },
  {
   "cell_type": "code",
   "execution_count": 18,
   "metadata": {},
   "outputs": [],
   "source": [
    "# define a callback to log training statistics for Tensorboard\n",
    "tensorboard_callback = tf.keras.callbacks.TensorBoard(log_dir=\"logs\")"
   ]
  },
  {
   "cell_type": "code",
   "execution_count": 19,
   "metadata": {},
   "outputs": [
    {
     "name": "stdout",
     "output_type": "stream",
     "text": [
      "Epoch 1/20\n",
      "78/78 [==============================] - 1s 13ms/step - loss: 1.5731 - accuracy: 0.5071\n",
      "Epoch 2/20\n",
      "78/78 [==============================] - 1s 9ms/step - loss: 1.3163 - accuracy: 0.7590\n",
      "Epoch 3/20\n",
      "78/78 [==============================] - 1s 10ms/step - loss: 0.9640 - accuracy: 0.7776\n",
      "Epoch 4/20\n",
      "78/78 [==============================] - 1s 11ms/step - loss: 0.7072 - accuracy: 0.8354\n",
      "Epoch 5/20\n",
      "78/78 [==============================] - 1s 10ms/step - loss: 0.5318 - accuracy: 0.8794\n",
      "Epoch 6/20\n",
      "78/78 [==============================] - 1s 9ms/step - loss: 0.4111 - accuracy: 0.9109\n",
      "Epoch 7/20\n",
      "78/78 [==============================] - 1s 8ms/step - loss: 0.3266 - accuracy: 0.9339\n",
      "Epoch 8/20\n",
      "78/78 [==============================] - 1s 8ms/step - loss: 0.2661 - accuracy: 0.9501\n",
      "Epoch 9/20\n",
      "78/78 [==============================] - 1s 8ms/step - loss: 0.2218 - accuracy: 0.9607\n",
      "Epoch 10/20\n",
      "78/78 [==============================] - 1s 8ms/step - loss: 0.1888 - accuracy: 0.9681\n",
      "Epoch 11/20\n",
      "78/78 [==============================] - 1s 8ms/step - loss: 0.1639 - accuracy: 0.9726\n",
      "Epoch 12/20\n",
      "78/78 [==============================] - 1s 7ms/step - loss: 0.1446 - accuracy: 0.9759\n",
      "Epoch 13/20\n",
      "78/78 [==============================] - 1s 8ms/step - loss: 0.1296 - accuracy: 0.9779\n",
      "Epoch 14/20\n",
      "78/78 [==============================] - 1s 7ms/step - loss: 0.1177 - accuracy: 0.9793\n",
      "Epoch 15/20\n",
      "78/78 [==============================] - 1s 7ms/step - loss: 0.1081 - accuracy: 0.9802\n",
      "Epoch 16/20\n",
      "78/78 [==============================] - 1s 7ms/step - loss: 0.1004 - accuracy: 0.9808\n",
      "Epoch 17/20\n",
      "78/78 [==============================] - 1s 7ms/step - loss: 0.0940 - accuracy: 0.9813\n",
      "Epoch 18/20\n",
      "78/78 [==============================] - 1s 7ms/step - loss: 0.0887 - accuracy: 0.9815\n",
      "Epoch 19/20\n",
      "78/78 [==============================] - 1s 7ms/step - loss: 0.0842 - accuracy: 0.9818\n",
      "Epoch 20/20\n",
      "78/78 [==============================] - 1s 7ms/step - loss: 0.0805 - accuracy: 0.9820\n"
     ]
    },
    {
     "data": {
      "text/plain": [
       "<keras.callbacks.History at 0x1569dbcc4f0>"
      ]
     },
     "execution_count": 19,
     "metadata": {},
     "output_type": "execute_result"
    }
   ],
   "source": [
    "# Train the model on the dataset for some number of epochs:\n",
    "word2vec.fit(dataset, epochs=20, callbacks=[tensorboard_callback])"
   ]
  },
  {
   "cell_type": "code",
   "execution_count": 20,
   "metadata": {},
   "outputs": [],
   "source": [
    "weights = word2vec.get_layer('w2v_embedding').get_weights()[0]\n",
    "vocab = vectorize_layer.get_vocabulary()"
   ]
  },
  {
   "cell_type": "code",
   "execution_count": 21,
   "metadata": {},
   "outputs": [
    {
     "data": {
      "text/plain": [
       "13"
      ]
     },
     "execution_count": 21,
     "metadata": {},
     "output_type": "execute_result"
    }
   ],
   "source": [
    "vocab.index('trump')"
   ]
  },
  {
   "cell_type": "code",
   "execution_count": 22,
   "metadata": {},
   "outputs": [
    {
     "data": {
      "text/plain": [
       "array([ 0.03844438, -0.14008585, -0.21221514, -0.13628022, -0.18974096,\n",
       "       -0.20457222, -0.05379911,  0.1412965 , -0.06501113,  0.00121054,\n",
       "       -0.23720323,  0.00704947,  0.276176  ,  0.11510568,  0.15288785,\n",
       "        0.10557481, -0.4820325 , -0.11222402, -0.06627972,  0.23284675,\n",
       "        0.14378582, -0.00586037,  0.1329638 ,  0.13589063, -0.09969267,\n",
       "       -0.08916178,  0.14804177,  0.00980355,  0.16982275, -0.24848534,\n",
       "       -0.12184989,  0.02265077,  0.15964778, -0.00547457,  0.11001627,\n",
       "       -0.01093417,  0.1286592 ,  0.03448049, -0.26520285,  0.2564958 ,\n",
       "       -0.0454016 ,  0.09357715, -0.26502272, -0.07577291, -0.142107  ,\n",
       "       -0.2193175 , -0.35863206,  0.07468792, -0.05995445,  0.12344135,\n",
       "       -0.2715645 , -0.00840358, -0.14407666,  0.29216278, -0.1547988 ,\n",
       "       -0.07570764,  0.16539103, -0.15211287,  0.20302172,  0.20943414,\n",
       "       -0.2039899 ,  0.1466455 , -0.01837552, -0.00768824,  0.06770298,\n",
       "       -0.08434218,  0.01423713, -0.14368957, -0.14679132, -0.05745713,\n",
       "        0.09700003, -0.25092545,  0.3159613 ,  0.05311863, -0.02088042,\n",
       "       -0.25186053, -0.10127082,  0.08586682,  0.32495946, -0.0442735 ,\n",
       "       -0.16402246,  0.09638217,  0.26047125, -0.14290345, -0.10155966,\n",
       "       -0.02333265, -0.28197065, -0.1317656 , -0.06312355,  0.15606025,\n",
       "        0.05187218, -0.03582659, -0.1502412 ,  0.2411334 ,  0.13770571,\n",
       "       -0.03376298,  0.32425523,  0.14341618,  0.2535012 , -0.13461123,\n",
       "        0.10888524,  0.14289054, -0.19630158,  0.08253135, -0.14903638,\n",
       "        0.21570668, -0.00390291, -0.07931706,  0.07788777,  0.18500996,\n",
       "        0.03853187, -0.12325678, -0.10429527, -0.03577737,  0.23342612,\n",
       "       -0.20101504, -0.14886205, -0.08407123,  0.3700204 ,  0.11734173,\n",
       "       -0.11239547,  0.01689507, -0.2814075 ,  0.13337705, -0.03641982,\n",
       "       -0.12651685, -0.06281348,  0.19722953,  0.10614397,  0.059374  ,\n",
       "       -0.5211627 , -0.09789444, -0.3519286 , -0.16170748,  0.22486526,\n",
       "        0.01120756, -0.14345178, -0.1783586 , -0.19473392, -0.261773  ,\n",
       "        0.06531065,  0.01624842, -0.13347128, -0.2994885 ,  0.16062647,\n",
       "       -0.0593832 , -0.10824101, -0.15562846, -0.03002288,  0.30647653,\n",
       "        0.2462727 , -0.0164456 , -0.10203393,  0.00798587,  0.11704896,\n",
       "        0.06172579,  0.09294974, -0.09580886,  0.08444974, -0.16626734,\n",
       "       -0.02408227,  0.3960159 ,  0.15866877,  0.00948414, -0.07771155,\n",
       "        0.30254146,  0.21820924, -0.04851818,  0.39877862,  0.1249771 ,\n",
       "        0.00245722,  0.19928287, -0.12842537,  0.07729975,  0.18771821,\n",
       "        0.2005803 ,  0.22743927,  0.30972102,  0.2310948 , -0.14878394,\n",
       "        0.23155914,  0.43795788, -0.03261534, -0.01759553, -0.14723057,\n",
       "       -0.07890317, -0.03036438,  0.01113064, -0.12847587, -0.11442706,\n",
       "       -0.06085964,  0.14749539, -0.2636842 , -0.05155677, -0.21140507,\n",
       "        0.00593005,  0.19865592, -0.03862867,  0.0093692 ,  0.03890999,\n",
       "       -0.28015256,  0.28115642, -0.1080279 , -0.04739741, -0.15596099,\n",
       "       -0.26150036, -0.28677258,  0.11298902, -0.02156855,  0.303157  ,\n",
       "       -0.17516059, -0.15779936,  0.07620881, -0.13731256, -0.03810078,\n",
       "        0.05962913, -0.14512771, -0.20833857,  0.13127682, -0.09858824,\n",
       "       -0.04777849, -0.04867085,  0.11312237,  0.25877202,  0.06469821,\n",
       "       -0.09922141,  0.12286963, -0.05023339,  0.08036802, -0.15704347,\n",
       "        0.19568716, -0.24511991, -0.0533012 ,  0.33417398,  0.31900012,\n",
       "        0.16970906,  0.16610657, -0.10661768,  0.00827669,  0.12319292,\n",
       "       -0.04029446,  0.3274984 ,  0.230307  , -0.24324192, -0.28063604,\n",
       "        0.14799835, -0.1880679 ,  0.20399196, -0.29959512,  0.17270285,\n",
       "       -0.31449148, -0.04731328, -0.10945728,  0.00263944,  0.09367495,\n",
       "       -0.4239323 , -0.03619215, -0.24639706,  0.06948727, -0.05214453,\n",
       "       -0.1729001 , -0.23100999,  0.19815905,  0.03326645,  0.3181277 ,\n",
       "       -0.22883514, -0.13354772, -0.10449885, -0.12501194,  0.08500598,\n",
       "       -0.06191298,  0.02016705,  0.07429349,  0.29462224, -0.02170033,\n",
       "       -0.06774107, -0.07394096, -0.1995596 ,  0.10242243,  0.15842724,\n",
       "       -0.3541604 , -0.04792257, -0.22709279, -0.04412259, -0.24218354,\n",
       "       -0.18669927, -0.23061322, -0.04061403,  0.07771104, -0.2282623 ,\n",
       "       -0.1328821 ,  0.03490821, -0.08330212, -0.20211227, -0.01922747,\n",
       "       -0.06982364,  0.05430893,  0.11372801,  0.31579664,  0.08693136,\n",
       "       -0.21861249,  0.3074505 , -0.1417704 , -0.14918628, -0.20587918,\n",
       "       -0.06282538,  0.26515454, -0.03377026,  0.23533483,  0.11863251,\n",
       "        0.01361944,  0.11458014, -0.11746327,  0.10228927, -0.34251127,\n",
       "       -0.2525814 ,  0.19385548, -0.22098015,  0.23261206,  0.05340298,\n",
       "       -0.27101594,  0.12480781, -0.13222004,  0.11494166, -0.01722934,\n",
       "       -0.11196721,  0.09927192,  0.04332572,  0.19491915, -0.02103454,\n",
       "       -0.1529668 ,  0.09857492, -0.2887691 , -0.24209903,  0.09445228,\n",
       "       -0.11464325, -0.138234  ,  0.12391722,  0.06717938,  0.11279369,\n",
       "        0.34581295, -0.18465205,  0.02489617,  0.11900392, -0.01564337,\n",
       "        0.01214354,  0.21175942, -0.02402527, -0.25660405,  0.20069513,\n",
       "       -0.02148716, -0.1096841 ,  0.03505247, -0.25251105,  0.19552653,\n",
       "        0.23853818,  0.08081258, -0.24895045, -0.13015394,  0.01862798,\n",
       "       -0.13359645, -0.11357044, -0.16628501,  0.04973392,  0.09534493,\n",
       "        0.10827119,  0.00515988,  0.0719846 , -0.05530798,  0.00092317,\n",
       "        0.07092123, -0.06306975,  0.20810118,  0.1121678 ,  0.02831331,\n",
       "       -0.21701327,  0.08560204, -0.24975196, -0.06690861, -0.12001266,\n",
       "        0.06287939, -0.26158556,  0.29627466,  0.20497547, -0.19600116,\n",
       "        0.2163927 , -0.21633032, -0.18467428, -0.09255925,  0.02336119,\n",
       "        0.17557925, -0.21912256,  0.13352636,  0.24395008,  0.2312345 ,\n",
       "       -0.2732078 ,  0.33862367,  0.02575184,  0.09080319,  0.06979097,\n",
       "        0.09479892, -0.07580066, -0.16033244,  0.21313582,  0.08552117,\n",
       "       -0.24682795,  0.31116503, -0.01634773, -0.19194666, -0.02686792,\n",
       "        0.08133238,  0.07896172, -0.19790627, -0.3108465 ,  0.09132699,\n",
       "        0.14408338,  0.01932945,  0.0760627 ,  0.14075065, -0.03293321,\n",
       "       -0.22057556,  0.18331918, -0.2622655 , -0.30395362, -0.16824095,\n",
       "       -0.23639031,  0.04914914, -0.19820215, -0.2169544 ,  0.2052001 ,\n",
       "       -0.07031319, -0.18854603,  0.07692376,  0.20734179,  0.07929204,\n",
       "        0.0469569 ,  0.04486055, -0.10637863, -0.013421  ,  0.04581967,\n",
       "        0.33179843, -0.399564  , -0.291929  ,  0.29177922, -0.27473083,\n",
       "       -0.01434813,  0.14108089, -0.30434015, -0.23323183,  0.12619863,\n",
       "       -0.3124652 ,  0.2207757 , -0.10696081,  0.00248028, -0.06669299,\n",
       "        0.14104861, -0.11080344, -0.00520924,  0.06523527, -0.09306984,\n",
       "        0.17082371, -0.31701675,  0.19846328,  0.19043438,  0.23274072,\n",
       "       -0.16863117, -0.15553436, -0.25033072,  0.18204173,  0.10798249,\n",
       "        0.02779341,  0.248587  ,  0.24250285, -0.25402156,  0.14884414,\n",
       "        0.03685646,  0.06989133, -0.15774855, -0.00892279, -0.2366397 ,\n",
       "        0.24141476, -0.14687729, -0.00687024,  0.12484144,  0.04564443,\n",
       "       -0.02549622,  0.2840978 ,  0.07514291, -0.17113456,  0.01180986,\n",
       "        0.07126587, -0.00163544, -0.14854965, -0.01033428, -0.16620895,\n",
       "        0.09452998, -0.27755272,  0.11723676, -0.04531524,  0.02183172,\n",
       "        0.00706258,  0.12592018, -0.26439455, -0.4064757 , -0.22391334,\n",
       "       -0.21142796,  0.5381203 , -0.20024413,  0.00721349, -0.01266884,\n",
       "        0.01550875, -0.01210315], dtype=float32)"
      ]
     },
     "execution_count": 22,
     "metadata": {},
     "output_type": "execute_result"
    }
   ],
   "source": [
    "weights[vocab.index('trump')]"
   ]
  },
  {
   "cell_type": "code",
   "execution_count": 23,
   "metadata": {},
   "outputs": [],
   "source": [
    "# create and save the vectors and metadata files\n",
    "out_v = io.open('center_vectors.tsv', 'w', encoding='utf-8')\n",
    "out_m = io.open('center_metadata.tsv', 'w', encoding='utf-8')\n",
    "\n",
    "for index, word in enumerate(vocab):\n",
    "  if index == 0:\n",
    "    continue  # skip 0, it's padding.\n",
    "  vec = weights[index]\n",
    "  out_v.write('\\t'.join([str(x) for x in vec]) + \"\\n\")\n",
    "  out_m.write(word + \"\\n\")\n",
    "out_v.close()\n",
    "out_m.close()"
   ]
  },
  {
   "cell_type": "code",
   "execution_count": null,
   "metadata": {},
   "outputs": [],
   "source": []
  }
 ],
 "metadata": {
  "interpreter": {
   "hash": "f00daf49d657fcaf7bdc5adbb3b43841207e448605290b2bd26bf112b8cca0df"
  },
  "kernelspec": {
   "display_name": "Python 3.8.12 ('urop')",
   "language": "python",
   "name": "python3"
  },
  "language_info": {
   "codemirror_mode": {
    "name": "ipython",
    "version": 3
   },
   "file_extension": ".py",
   "mimetype": "text/x-python",
   "name": "python",
   "nbconvert_exporter": "python",
   "pygments_lexer": "ipython3",
   "version": "3.8.12"
  },
  "orig_nbformat": 4
 },
 "nbformat": 4,
 "nbformat_minor": 2
}
