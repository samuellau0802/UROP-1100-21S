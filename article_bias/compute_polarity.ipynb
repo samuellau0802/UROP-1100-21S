{
 "cells": [
  {
   "cell_type": "code",
   "execution_count": 65,
   "metadata": {},
   "outputs": [],
   "source": [
    "import numpy as np\n",
    "left_vectors = np.loadtxt(\"left_vectors.tsv\", dtype=float)\n",
    "right_vectors = np.loadtxt(\"right_vectors.tsv\", dtype=float)\n",
    "center_vectors = np.loadtxt(\"center_vectors.tsv\", dtype=float)"
   ]
  },
  {
   "cell_type": "code",
   "execution_count": 66,
   "metadata": {},
   "outputs": [],
   "source": [
    "with open(\"left_metadata.tsv\", \"r\") as file:\n",
    "    left_metadata = [i[:-1] for i in file.readlines()]\n",
    "with open(\"right_metadata.tsv\", \"r\") as file:\n",
    "    right_metadata = [i[:-1] for i in file.readlines()]\n",
    "with open(\"center_metadata.tsv\", \"r\") as file:\n",
    "    center_metadata = [i[:-1] for i in file.readlines()]"
   ]
  },
  {
   "cell_type": "code",
   "execution_count": 67,
   "metadata": {},
   "outputs": [],
   "source": [
    "def left_embedding(word):\n",
    "    return left_vectors[left_metadata.index(word)]\n",
    "def right_embedding(word):\n",
    "    return right_vectors[right_metadata.index(word)]\n",
    "def center_embedding(word):\n",
    "    return center_vectors[center_metadata.index(word)]"
   ]
  },
  {
   "cell_type": "code",
   "execution_count": 68,
   "metadata": {},
   "outputs": [],
   "source": [
    "import torch.nn as nn\n",
    "import torch\n",
    "\n",
    "def normalize(word_vec):\n",
    "    norm=np.linalg.norm(word_vec)\n",
    "    if norm == 0: \n",
    "       return word_vec\n",
    "    return word_vec/norm\n",
    "\n",
    "def cos_sim(x1, x2):\n",
    "    cos = nn.CosineSimilarity(dim=0)\n",
    "    x1, x2 = torch.from_numpy(normalize(x1)), torch.from_numpy(normalize(x2))\n",
    "    return cos(x1, x2)\n"
   ]
  },
  {
   "cell_type": "code",
   "execution_count": 69,
   "metadata": {},
   "outputs": [],
   "source": [
    "def compute_polarity(word):\n",
    "    return cos_sim(left_embedding(word), right_embedding(word))\n"
   ]
  },
  {
   "cell_type": "code",
   "execution_count": 70,
   "metadata": {},
   "outputs": [],
   "source": [
    "polarities = []\n",
    "for word in left_metadata:\n",
    "    try:\n",
    "        polarities.append((word, float(compute_polarity(word))))\n",
    "    except:\n",
    "        pass"
   ]
  },
  {
   "cell_type": "code",
   "execution_count": 71,
   "metadata": {},
   "outputs": [
    {
     "name": "stdout",
     "output_type": "stream",
     "text": [
      "The most polarized words:\n",
      "[('independents', -0.33137445492034795), ('refusing', -0.27016478278007794), ('proof', -0.2696272574429734), ('ticket', -0.2563066682687268), ('front', -0.2546644095262576), ('statistics', -0.24401645701046681), ('2003', -0.23589265368008608), ('dakota', -0.23425577306044415), ('institute', -0.23176018429762715), ('increasing', -0.2314189935904756), ('provide', -0.23029745115339148), ('establish', -0.223101310546191), ('journalist', -0.22199345665023412), ('products', -0.2155304280852802), ('rubio', -0.2124818594080773), ('cbs', -0.21223217905286174), ('maine', -0.2103628847498687), ('stick', -0.20704330888725292), ('type', -0.20634811576975878), ('lead', -0.20442447804244332)]\n"
     ]
    }
   ],
   "source": [
    "print(\"The most polarized words:\")\n",
    "print(sorted(polarities, key=lambda x: x[1])[:20])"
   ]
  },
  {
   "cell_type": "code",
   "execution_count": 72,
   "metadata": {},
   "outputs": [
    {
     "name": "stdout",
     "output_type": "stream",
     "text": [
      "The least polarized words:\n",
      "[('basic', 0.3475867057975009), ('robert', 0.3263069936615713), ('again', 0.31756580980308663), ('rhetoric', 0.30845891918928575), ('governors', 0.3079882937589179), ('irs', 0.30540782363014296), ('art', 0.30202571150908625), ('preserve', 0.2946736823351504), ('critic', 0.2881797486255515), ('peace', 0.286346555728567), ('second', 0.2849825950080656), ('operations', 0.27759867673627736), ('workers', 0.26273140499756314), ('to', 0.25987834877237515), ('louisiana', 0.2543764285822426), ('harm', 0.2533405770307847), ('moved', 0.2509741036312394), ('vladimir', 0.24778741869642257), ('loyal', 0.2469642211554301), ('december', 0.2454362571320371)]\n"
     ]
    }
   ],
   "source": [
    "print(\"The least polarized words:\")\n",
    "print(sorted(polarities, key=lambda x: x[1], reverse=True)[:20])"
   ]
  },
  {
   "cell_type": "code",
   "execution_count": 73,
   "metadata": {},
   "outputs": [
    {
     "data": {
      "text/plain": [
       "('extensive', 'writes')"
      ]
     },
     "execution_count": 73,
     "metadata": {},
     "output_type": "execute_result"
    }
   ],
   "source": [
    "left_metadata[3773], left_metadata[1904]"
   ]
  },
  {
   "cell_type": "code",
   "execution_count": null,
   "metadata": {},
   "outputs": [],
   "source": []
  }
 ],
 "metadata": {
  "interpreter": {
   "hash": "f00daf49d657fcaf7bdc5adbb3b43841207e448605290b2bd26bf112b8cca0df"
  },
  "kernelspec": {
   "display_name": "Python 3.8.12 ('urop')",
   "language": "python",
   "name": "python3"
  },
  "language_info": {
   "codemirror_mode": {
    "name": "ipython",
    "version": 3
   },
   "file_extension": ".py",
   "mimetype": "text/x-python",
   "name": "python",
   "nbconvert_exporter": "python",
   "pygments_lexer": "ipython3",
   "version": "3.8.12"
  },
  "orig_nbformat": 4
 },
 "nbformat": 4,
 "nbformat_minor": 2
}
