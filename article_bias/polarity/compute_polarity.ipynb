{
 "cells": [
  {
   "cell_type": "code",
   "execution_count": 1,
   "metadata": {},
   "outputs": [],
   "source": [
    "import numpy as np\n",
    "left_vectors = np.loadtxt(\"left_vectors.tsv\", dtype=float)\n",
    "right_vectors = np.loadtxt(\"right_vectors.tsv\", dtype=float)\n",
    "center_vectors = np.loadtxt(\"center_vectors.tsv\", dtype=float)"
   ]
  },
  {
   "cell_type": "code",
   "execution_count": 2,
   "metadata": {},
   "outputs": [],
   "source": [
    "with open(\"left_metadata.tsv\", \"r\") as file:\n",
    "    left_metadata = [i[:-1] for i in file.readlines()]\n",
    "with open(\"right_metadata.tsv\", \"r\") as file:\n",
    "    right_metadata = [i[:-1] for i in file.readlines()]\n",
    "with open(\"center_metadata.tsv\", \"r\") as file:\n",
    "    center_metadata = [i[:-1] for i in file.readlines()]"
   ]
  },
  {
   "cell_type": "code",
   "execution_count": 3,
   "metadata": {},
   "outputs": [],
   "source": [
    "def left_embedding(word):\n",
    "    return left_vectors[left_metadata.index(word)]\n",
    "def right_embedding(word):\n",
    "    return right_vectors[right_metadata.index(word)]\n",
    "def center_embedding(word):\n",
    "    return center_vectors[center_metadata.index(word)]"
   ]
  },
  {
   "cell_type": "code",
   "execution_count": 4,
   "metadata": {},
   "outputs": [],
   "source": [
    "import torch.nn as nn\n",
    "import torch\n",
    "\n",
    "def normalize(word_vec):\n",
    "    norm=np.linalg.norm(word_vec)\n",
    "    if norm == 0: \n",
    "       return word_vec\n",
    "    return word_vec/norm\n",
    "\n",
    "def cos_sim(x1, x2):\n",
    "    cos = nn.CosineSimilarity(dim=0)\n",
    "    x1, x2 = torch.from_numpy(normalize(x1)), torch.from_numpy(normalize(x2))\n",
    "    return cos(x1, x2)\n"
   ]
  },
  {
   "cell_type": "code",
   "execution_count": 5,
   "metadata": {},
   "outputs": [],
   "source": [
    "def compute_polarity(word):\n",
    "    return cos_sim(left_embedding(word), right_embedding(word))\n"
   ]
  },
  {
   "cell_type": "code",
   "execution_count": 6,
   "metadata": {},
   "outputs": [],
   "source": [
    "polarities = []\n",
    "for word in left_metadata:\n",
    "    try:\n",
    "        polarities.append((word, float(compute_polarity(word))))\n",
    "    except:\n",
    "        pass"
   ]
  },
  {
   "cell_type": "code",
   "execution_count": 10,
   "metadata": {},
   "outputs": [
    {
     "name": "stdout",
     "output_type": "stream",
     "text": [
      "The most polarized words:\n",
      "[('shock', -0.16165042171511027), ('sept', -0.15465793415975654), ('wear', -0.15373365649515847), ('oppose', -0.14771471967310196), ('waiver', -0.14656792222543638), ('emerge', -0.14577900209558248), ('95', -0.14560813091109776), ('israeli', -0.14264038413308422), ('preserve', -0.14094034448799903), ('nation’s', -0.140594931937354), ('broken', -0.13869672208643222), ('“to', -0.1366152340850802), ('signatures', -0.13570636050720555), ('as', -0.13557804620232505), ('punish', -0.135280669101486), ('bullet', -0.13519992928920135), ('biased', -0.1349925657233017), ('amendments', -0.13393766602598609), ('services', -0.1337586971887289), ('pollster', -0.13241387573242216), ('explosion', -0.13164113266212024), ('gain', -0.1309050696440565), ('constituency', -0.13016508548110708), ('thompson', -0.12927168568348668), ('centers', -0.12914537490885622), ('mcmullin', -0.12891626534741102), ('let’s', -0.12741980020052956), ('kids', -0.12557560759133155), ('collusion', -0.12552633142359287), ('unpopular', -0.12506502561789098)]\n"
     ]
    }
   ],
   "source": [
    "print(\"The most polarized words:\")\n",
    "print(sorted(polarities, key=lambda x: x[1])[:30])"
   ]
  },
  {
   "cell_type": "code",
   "execution_count": 11,
   "metadata": {},
   "outputs": [
    {
     "name": "stdout",
     "output_type": "stream",
     "text": [
      "The least polarized words:\n",
      "[('roberts', 0.17176801502011618), ('charles', 0.16426862501836845), ('ahead', 0.14447660445220384), ('terminal', 0.13965055481207103), ('soldier', 0.1384593199085538), ('average', 0.1382846175239144), ('wasn’t', 0.13383403796605292), ('entity', 0.133502255766015), ('counties', 0.1334761163753366), ('think', 0.13277060797012805), ('uphold', 0.1321175231244901), ('thomas', 0.1314071174031392), ('blumenthal', 0.12927196470459815), ('rose', 0.12916251420641184), ('ahca', 0.12853442042912355), ('looking', 0.12789618263472957), ('instance', 0.12719656352534595), ('budgets', 0.12466873049556915), ('fighter', 0.12306462702743909), ('fewer', 0.12059855967496863), ('she', 0.11929752666986708), ('significantly', 0.11880695325445738), ('stand', 0.11713917096980365), ('moon', 0.11706267682158018), ('recounts', 0.1168227873160246), ('1993', 0.11613757103163516), ('animal', 0.1157013737657889), ('fit', 0.11557157069730967), ('screening', 0.11530995486940411), ('tiny', 0.11426021616666601)]\n"
     ]
    }
   ],
   "source": [
    "print(\"The least polarized words:\")\n",
    "print(sorted(polarities, key=lambda x: x[1], reverse=True)[:30])"
   ]
  },
  {
   "cell_type": "code",
   "execution_count": null,
   "metadata": {},
   "outputs": [],
   "source": []
  }
 ],
 "metadata": {
  "interpreter": {
   "hash": "f00daf49d657fcaf7bdc5adbb3b43841207e448605290b2bd26bf112b8cca0df"
  },
  "kernelspec": {
   "display_name": "Python 3.8.12 ('urop')",
   "language": "python",
   "name": "python3"
  },
  "language_info": {
   "codemirror_mode": {
    "name": "ipython",
    "version": 3
   },
   "file_extension": ".py",
   "mimetype": "text/x-python",
   "name": "python",
   "nbconvert_exporter": "python",
   "pygments_lexer": "ipython3",
   "version": "3.8.12"
  },
  "orig_nbformat": 4
 },
 "nbformat": 4,
 "nbformat_minor": 2
}
