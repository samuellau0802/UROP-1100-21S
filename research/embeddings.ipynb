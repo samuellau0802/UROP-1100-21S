{
 "cells": [
  {
   "cell_type": "code",
   "execution_count": 1,
   "metadata": {},
   "outputs": [
    {
     "data": {
      "text/html": [
       "<div>\n",
       "<style scoped>\n",
       "    .dataframe tbody tr th:only-of-type {\n",
       "        vertical-align: middle;\n",
       "    }\n",
       "\n",
       "    .dataframe tbody tr th {\n",
       "        vertical-align: top;\n",
       "    }\n",
       "\n",
       "    .dataframe thead th {\n",
       "        text-align: right;\n",
       "    }\n",
       "</style>\n",
       "<table border=\"1\" class=\"dataframe\">\n",
       "  <thead>\n",
       "    <tr style=\"text-align: right;\">\n",
       "      <th></th>\n",
       "      <th>id</th>\n",
       "      <th>title</th>\n",
       "      <th>publication</th>\n",
       "      <th>author</th>\n",
       "      <th>date</th>\n",
       "      <th>year</th>\n",
       "      <th>month</th>\n",
       "      <th>url</th>\n",
       "      <th>content</th>\n",
       "      <th>media_bias</th>\n",
       "      <th>label</th>\n",
       "    </tr>\n",
       "  </thead>\n",
       "  <tbody>\n",
       "    <tr>\n",
       "      <th>0</th>\n",
       "      <td>82596</td>\n",
       "      <td>Donald Trump blasts Bill Clinton as ’one of th...</td>\n",
       "      <td>Fox News</td>\n",
       "      <td>Christopher Snyder</td>\n",
       "      <td>2015-12-30</td>\n",
       "      <td>2015.0</td>\n",
       "      <td>12.0</td>\n",
       "      <td>https://web.archive.org/web/20160101000951/htt...</td>\n",
       "      <td>Donald Trump launched new attacks against Bil...</td>\n",
       "      <td>right</td>\n",
       "      <td>POLITICS</td>\n",
       "    </tr>\n",
       "    <tr>\n",
       "      <th>1</th>\n",
       "      <td>82600</td>\n",
       "      <td>Drop in oil prices rocks producer states, trig...</td>\n",
       "      <td>Fox News</td>\n",
       "      <td>Brooke Singman</td>\n",
       "      <td>2016-01-01</td>\n",
       "      <td>2016.0</td>\n",
       "      <td>1.0</td>\n",
       "      <td>https://web.archive.org/web/20160102032517/htt...</td>\n",
       "      <td>The plunge in oil prices has given a needed b...</td>\n",
       "      <td>right</td>\n",
       "      <td>BUSINESS</td>\n",
       "    </tr>\n",
       "    <tr>\n",
       "      <th>2</th>\n",
       "      <td>82605</td>\n",
       "      <td>Open carry comes to Texas: Why the Lone Star s...</td>\n",
       "      <td>Fox News</td>\n",
       "      <td>John R Lott</td>\n",
       "      <td>2015-12-30</td>\n",
       "      <td>2015.0</td>\n",
       "      <td>12.0</td>\n",
       "      <td>https://web.archive.org/web/20160102032517/htt...</td>\n",
       "      <td>With about 900, 000 concealed handgun permit ...</td>\n",
       "      <td>right</td>\n",
       "      <td>POLITICS</td>\n",
       "    </tr>\n",
       "    <tr>\n",
       "      <th>3</th>\n",
       "      <td>82621</td>\n",
       "      <td>GOP field rips Obama’s move toward executive a...</td>\n",
       "      <td>Fox News</td>\n",
       "      <td>Joseph Weber</td>\n",
       "      <td>2016-01-03</td>\n",
       "      <td>2016.0</td>\n",
       "      <td>1.0</td>\n",
       "      <td>https://web.archive.org/web/20160104001421/htt...</td>\n",
       "      <td>Republican presidential candidates are attack...</td>\n",
       "      <td>right</td>\n",
       "      <td>POLITICS</td>\n",
       "    </tr>\n",
       "    <tr>\n",
       "      <th>4</th>\n",
       "      <td>82630</td>\n",
       "      <td>President Obama wants to disarm America</td>\n",
       "      <td>Fox News</td>\n",
       "      <td>Todd Starnes</td>\n",
       "      <td>2016-01-04</td>\n",
       "      <td>2016.0</td>\n",
       "      <td>1.0</td>\n",
       "      <td>https://web.archive.org/web/20160105014544/htt...</td>\n",
       "      <td>President Obama is plotting with his attorney...</td>\n",
       "      <td>right</td>\n",
       "      <td>POLITICS</td>\n",
       "    </tr>\n",
       "  </tbody>\n",
       "</table>\n",
       "</div>"
      ],
      "text/plain": [
       "      id                                              title publication  \\\n",
       "0  82596  Donald Trump blasts Bill Clinton as ’one of th...    Fox News   \n",
       "1  82600  Drop in oil prices rocks producer states, trig...    Fox News   \n",
       "2  82605  Open carry comes to Texas: Why the Lone Star s...    Fox News   \n",
       "3  82621  GOP field rips Obama’s move toward executive a...    Fox News   \n",
       "4  82630            President Obama wants to disarm America    Fox News   \n",
       "\n",
       "               author        date    year  month  \\\n",
       "0  Christopher Snyder  2015-12-30  2015.0   12.0   \n",
       "1      Brooke Singman  2016-01-01  2016.0    1.0   \n",
       "2         John R Lott  2015-12-30  2015.0   12.0   \n",
       "3        Joseph Weber  2016-01-03  2016.0    1.0   \n",
       "4        Todd Starnes  2016-01-04  2016.0    1.0   \n",
       "\n",
       "                                                 url  \\\n",
       "0  https://web.archive.org/web/20160101000951/htt...   \n",
       "1  https://web.archive.org/web/20160102032517/htt...   \n",
       "2  https://web.archive.org/web/20160102032517/htt...   \n",
       "3  https://web.archive.org/web/20160104001421/htt...   \n",
       "4  https://web.archive.org/web/20160105014544/htt...   \n",
       "\n",
       "                                             content media_bias     label  \n",
       "0   Donald Trump launched new attacks against Bil...      right  POLITICS  \n",
       "1   The plunge in oil prices has given a needed b...      right  BUSINESS  \n",
       "2   With about 900, 000 concealed handgun permit ...      right  POLITICS  \n",
       "3   Republican presidential candidates are attack...      right  POLITICS  \n",
       "4   President Obama is plotting with his attorney...      right  POLITICS  "
      ]
     },
     "execution_count": 1,
     "metadata": {},
     "output_type": "execute_result"
    }
   ],
   "source": [
    "import pandas as pd\n",
    "df = pd.read_csv(r\"C:\\Users\\samue\\OneDrive - HKUST Connect\\year 2 spring\\UROP 1100\\UROP-1100-21S\\source_bias\\labelled_news_data.csv\")\n",
    "df.head()"
   ]
  },
  {
   "cell_type": "code",
   "execution_count": 3,
   "metadata": {},
   "outputs": [
    {
     "data": {
      "text/plain": [
       "{'ARTS',\n",
       " 'ARTS & CULTURE',\n",
       " 'BLACK VOICES',\n",
       " 'BUSINESS',\n",
       " 'COLLEGE',\n",
       " 'COMEDY',\n",
       " 'CRIME',\n",
       " 'CULTURE & ARTS',\n",
       " 'DIVORCE',\n",
       " 'EDUCATION',\n",
       " 'ENTERTAINMENT',\n",
       " 'ENVIRONMENT',\n",
       " 'FIFTY',\n",
       " 'FOOD & DRINK',\n",
       " 'GOOD NEWS',\n",
       " 'GREEN',\n",
       " 'HEALTHY LIVING',\n",
       " 'HOME & LIVING',\n",
       " 'IMPACT',\n",
       " 'LATINO VOICES',\n",
       " 'MEDIA',\n",
       " 'MONEY',\n",
       " 'PARENTING',\n",
       " 'PARENTS',\n",
       " 'POLITICS',\n",
       " 'QUEER VOICES',\n",
       " 'RELIGION',\n",
       " 'SCIENCE',\n",
       " 'SPORTS',\n",
       " 'STYLE',\n",
       " 'STYLE & BEAUTY',\n",
       " 'TASTE',\n",
       " 'TECH',\n",
       " 'THE WORLDPOST',\n",
       " 'TRAVEL',\n",
       " 'WEDDINGS',\n",
       " 'WEIRD NEWS',\n",
       " 'WELLNESS',\n",
       " 'WOMEN',\n",
       " 'WORLD NEWS',\n",
       " 'WORLDPOST'}"
      ]
     },
     "execution_count": 3,
     "metadata": {},
     "output_type": "execute_result"
    }
   ],
   "source": [
    "set(df.label)"
   ]
  },
  {
   "cell_type": "code",
   "execution_count": 34,
   "metadata": {},
   "outputs": [],
   "source": [
    "politics_sample = df[df['label'] == \"POLITICS\"].sample(50).content.values\n",
    "business_sample = df[df['label'] == \"BUSINESS\"].sample(50).content.values\n",
    "tech_sample = df[df['label'] == \"TECH\"].sample(50).content.values"
   ]
  },
  {
   "cell_type": "code",
   "execution_count": 10,
   "metadata": {},
   "outputs": [],
   "source": [
    "from sentence_transformers import SentenceTransformer\n",
    "model = SentenceTransformer('all-mpnet-base-v2')\n"
   ]
  },
  {
   "cell_type": "code",
   "execution_count": 35,
   "metadata": {},
   "outputs": [
    {
     "data": {
      "text/plain": [
       "array([[-0.01898056,  0.08467138,  0.00275475, ...,  0.00613301,\n",
       "         0.01890741, -0.0081968 ],\n",
       "       [ 0.00089839,  0.04329651, -0.00596803, ..., -0.01337541,\n",
       "        -0.01536281, -0.01818991],\n",
       "       [-0.05152811,  0.09047963, -0.00457463, ...,  0.00202574,\n",
       "        -0.01087255, -0.00357832],\n",
       "       ...,\n",
       "       [ 0.06638912,  0.08473746, -0.0076033 , ...,  0.02972711,\n",
       "         0.00929566,  0.02197728],\n",
       "       [ 0.02403459, -0.01064413, -0.03717831, ..., -0.03932115,\n",
       "        -0.03456412, -0.01124406],\n",
       "       [ 0.00054292,  0.03206341, -0.03935282, ..., -0.02215665,\n",
       "        -0.02025132, -0.0239566 ]], dtype=float32)"
      ]
     },
     "execution_count": 35,
     "metadata": {},
     "output_type": "execute_result"
    }
   ],
   "source": [
    "embeddings = model.encode(list(politics_sample)+list(business_sample)+list(tech_sample))\n",
    "embeddings"
   ]
  },
  {
   "cell_type": "code",
   "execution_count": 36,
   "metadata": {},
   "outputs": [
    {
     "data": {
      "text/plain": [
       "(150, 768)"
      ]
     },
     "execution_count": 36,
     "metadata": {},
     "output_type": "execute_result"
    }
   ],
   "source": [
    "embeddings.shape"
   ]
  },
  {
   "cell_type": "code",
   "execution_count": 37,
   "metadata": {},
   "outputs": [
    {
     "data": {
      "text/plain": [
       "(150, 2)"
      ]
     },
     "execution_count": 37,
     "metadata": {},
     "output_type": "execute_result"
    }
   ],
   "source": [
    "import numpy as np\n",
    "from sklearn.manifold import TSNE\n",
    "X_embedded = TSNE(n_components=2, learning_rate='auto',\n",
    "                  init='random').fit_transform(embeddings)\n",
    "X_embedded.shape"
   ]
  },
  {
   "cell_type": "code",
   "execution_count": 38,
   "metadata": {},
   "outputs": [
    {
     "data": {
      "text/plain": [
       "array([[-5.6896586,  7.907376 ],\n",
       "       [ 1.7155364,  5.1301146],\n",
       "       [-3.038746 ,  5.885069 ],\n",
       "       [-2.2449765,  7.736611 ],\n",
       "       [-1.7029197,  4.229356 ]], dtype=float32)"
      ]
     },
     "execution_count": 38,
     "metadata": {},
     "output_type": "execute_result"
    }
   ],
   "source": [
    "X_embedded[:5]"
   ]
  },
  {
   "cell_type": "code",
   "execution_count": 39,
   "metadata": {},
   "outputs": [
    {
     "data": {
      "text/plain": [
       "<matplotlib.collections.PathCollection at 0x2a6fc917fd0>"
      ]
     },
     "execution_count": 39,
     "metadata": {},
     "output_type": "execute_result"
    },
    {
     "data": {
      "image/png": "[encoded data removed]",
      "text/plain": [
       "<Figure size 432x288 with 1 Axes>"
      ]
     },
     "metadata": {
      "needs_background": "light"
     },
     "output_type": "display_data"
    }
   ],
   "source": [
    "import matplotlib.pyplot as plt\n",
    "plt.scatter(X_embedded[:, 0], X_embedded[:,1], c=[0]*50+[1]*50+[2]*50)"
   ]
  },
  {
   "cell_type": "code",
   "execution_count": 41,
   "metadata": {},
   "outputs": [],
   "source": [
    "left_sample = df[(df['label'] == \"POLITICS\") & (df['media_bias'] == \"left\")].sample(100).content.values\n",
    "right_sample = df[(df['label'] == \"POLITICS\") & (df['media_bias'] == \"right\")].sample(100).content.values"
   ]
  },
  {
   "cell_type": "code",
   "execution_count": 42,
   "metadata": {},
   "outputs": [
    {
     "data": {
      "text/plain": [
       "array([[-0.0434307 ,  0.09556523,  0.00358982, ...,  0.02786065,\n",
       "         0.00599544, -0.00514186],\n",
       "       [ 0.00432267,  0.07001598,  0.02752157, ...,  0.01161238,\n",
       "        -0.00359657,  0.00034127],\n",
       "       [-0.01711002,  0.06907184,  0.02076242, ...,  0.0147229 ,\n",
       "        -0.03745688, -0.01601799],\n",
       "       ...,\n",
       "       [-0.00995708,  0.11145946,  0.01737575, ..., -0.03922585,\n",
       "        -0.03732269,  0.03926647],\n",
       "       [ 0.02356899,  0.13687105,  0.00387393, ...,  0.0133651 ,\n",
       "        -0.05997062, -0.02299663],\n",
       "       [-0.06970847,  0.08175346,  0.0685036 , ...,  0.0011739 ,\n",
       "         0.00606143,  0.01039716]], dtype=float32)"
      ]
     },
     "execution_count": 42,
     "metadata": {},
     "output_type": "execute_result"
    }
   ],
   "source": [
    "embeddings = model.encode(list(left_sample)+list(right_sample))\n",
    "embeddings"
   ]
  },
  {
   "cell_type": "code",
   "execution_count": 43,
   "metadata": {},
   "outputs": [
    {
     "data": {
      "text/plain": [
       "(200, 2)"
      ]
     },
     "execution_count": 43,
     "metadata": {},
     "output_type": "execute_result"
    }
   ],
   "source": [
    "X_embedded = TSNE(n_components=2, learning_rate='auto',\n",
    "                  init='random').fit_transform(embeddings)\n",
    "X_embedded.shape"
   ]
  },
  {
   "cell_type": "code",
   "execution_count": 44,
   "metadata": {},
   "outputs": [
    {
     "data": {
      "text/plain": [
       "<matplotlib.collections.PathCollection at 0x2a6fc974fd0>"
      ]
     },
     "execution_count": 44,
     "metadata": {},
     "output_type": "execute_result"
    },
    {
     "data": {
      "image/png": "[encoded data removed]",
      "text/plain": [
       "<Figure size 432x288 with 1 Axes>"
      ]
     },
     "metadata": {
      "needs_background": "light"
     },
     "output_type": "display_data"
    }
   ],
   "source": [
    "import matplotlib.pyplot as plt\n",
    "plt.scatter(X_embedded[:, 0], X_embedded[:,1], c=[0]*100+[1]*100)"
   ]
  },
  {
   "cell_type": "code",
   "execution_count": null,
   "metadata": {},
   "outputs": [],
   "source": []
  }
 ],
 "metadata": {
  "interpreter": {
   "hash": "f00daf49d657fcaf7bdc5adbb3b43841207e448605290b2bd26bf112b8cca0df"
  },
  "kernelspec": {
   "display_name": "Python 3.8.12 ('urop')",
   "language": "python",
   "name": "python3"
  },
  "language_info": {
   "codemirror_mode": {
    "name": "ipython",
    "version": 3
   },
   "file_extension": ".py",
   "mimetype": "text/x-python",
   "name": "python",
   "nbconvert_exporter": "python",
   "pygments_lexer": "ipython3",
   "version": "3.8.12"
  },
  "orig_nbformat": 4
 },
 "nbformat": 4,
 "nbformat_minor": 2
}
