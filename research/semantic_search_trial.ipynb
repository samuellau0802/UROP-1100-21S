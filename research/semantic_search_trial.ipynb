{
 "cells": [
  {
   "cell_type": "code",
   "execution_count": 1,
   "metadata": {},
   "outputs": [
    {
     "data": {
      "text/html": [
       "<div>\n",
       "<style scoped>\n",
       "    .dataframe tbody tr th:only-of-type {\n",
       "        vertical-align: middle;\n",
       "    }\n",
       "\n",
       "    .dataframe tbody tr th {\n",
       "        vertical-align: top;\n",
       "    }\n",
       "\n",
       "    .dataframe thead th {\n",
       "        text-align: right;\n",
       "    }\n",
       "</style>\n",
       "<table border=\"1\" class=\"dataframe\">\n",
       "  <thead>\n",
       "    <tr style=\"text-align: right;\">\n",
       "      <th></th>\n",
       "      <th>id</th>\n",
       "      <th>title</th>\n",
       "      <th>publication</th>\n",
       "      <th>author</th>\n",
       "      <th>date</th>\n",
       "      <th>year</th>\n",
       "      <th>month</th>\n",
       "      <th>url</th>\n",
       "      <th>content</th>\n",
       "      <th>media_bias</th>\n",
       "      <th>label</th>\n",
       "    </tr>\n",
       "  </thead>\n",
       "  <tbody>\n",
       "    <tr>\n",
       "      <th>0</th>\n",
       "      <td>82596</td>\n",
       "      <td>Donald Trump blasts Bill Clinton as ’one of th...</td>\n",
       "      <td>Fox News</td>\n",
       "      <td>Christopher Snyder</td>\n",
       "      <td>2015-12-30</td>\n",
       "      <td>2015.0</td>\n",
       "      <td>12.0</td>\n",
       "      <td>https://web.archive.org/web/20160101000951/htt...</td>\n",
       "      <td>Donald Trump launched new attacks against Bil...</td>\n",
       "      <td>right</td>\n",
       "      <td>POLITICS</td>\n",
       "    </tr>\n",
       "    <tr>\n",
       "      <th>1</th>\n",
       "      <td>82600</td>\n",
       "      <td>Drop in oil prices rocks producer states, trig...</td>\n",
       "      <td>Fox News</td>\n",
       "      <td>Brooke Singman</td>\n",
       "      <td>2016-01-01</td>\n",
       "      <td>2016.0</td>\n",
       "      <td>1.0</td>\n",
       "      <td>https://web.archive.org/web/20160102032517/htt...</td>\n",
       "      <td>The plunge in oil prices has given a needed b...</td>\n",
       "      <td>right</td>\n",
       "      <td>BUSINESS</td>\n",
       "    </tr>\n",
       "    <tr>\n",
       "      <th>2</th>\n",
       "      <td>82605</td>\n",
       "      <td>Open carry comes to Texas: Why the Lone Star s...</td>\n",
       "      <td>Fox News</td>\n",
       "      <td>John R Lott</td>\n",
       "      <td>2015-12-30</td>\n",
       "      <td>2015.0</td>\n",
       "      <td>12.0</td>\n",
       "      <td>https://web.archive.org/web/20160102032517/htt...</td>\n",
       "      <td>With about 900, 000 concealed handgun permit ...</td>\n",
       "      <td>right</td>\n",
       "      <td>POLITICS</td>\n",
       "    </tr>\n",
       "    <tr>\n",
       "      <th>3</th>\n",
       "      <td>82621</td>\n",
       "      <td>GOP field rips Obama’s move toward executive a...</td>\n",
       "      <td>Fox News</td>\n",
       "      <td>Joseph Weber</td>\n",
       "      <td>2016-01-03</td>\n",
       "      <td>2016.0</td>\n",
       "      <td>1.0</td>\n",
       "      <td>https://web.archive.org/web/20160104001421/htt...</td>\n",
       "      <td>Republican presidential candidates are attack...</td>\n",
       "      <td>right</td>\n",
       "      <td>POLITICS</td>\n",
       "    </tr>\n",
       "    <tr>\n",
       "      <th>4</th>\n",
       "      <td>82630</td>\n",
       "      <td>President Obama wants to disarm America</td>\n",
       "      <td>Fox News</td>\n",
       "      <td>Todd Starnes</td>\n",
       "      <td>2016-01-04</td>\n",
       "      <td>2016.0</td>\n",
       "      <td>1.0</td>\n",
       "      <td>https://web.archive.org/web/20160105014544/htt...</td>\n",
       "      <td>President Obama is plotting with his attorney...</td>\n",
       "      <td>right</td>\n",
       "      <td>POLITICS</td>\n",
       "    </tr>\n",
       "  </tbody>\n",
       "</table>\n",
       "</div>"
      ],
      "text/plain": [
       "      id                                              title publication  \\\n",
       "0  82596  Donald Trump blasts Bill Clinton as ’one of th...    Fox News   \n",
       "1  82600  Drop in oil prices rocks producer states, trig...    Fox News   \n",
       "2  82605  Open carry comes to Texas: Why the Lone Star s...    Fox News   \n",
       "3  82621  GOP field rips Obama’s move toward executive a...    Fox News   \n",
       "4  82630            President Obama wants to disarm America    Fox News   \n",
       "\n",
       "               author        date    year  month  \\\n",
       "0  Christopher Snyder  2015-12-30  2015.0   12.0   \n",
       "1      Brooke Singman  2016-01-01  2016.0    1.0   \n",
       "2         John R Lott  2015-12-30  2015.0   12.0   \n",
       "3        Joseph Weber  2016-01-03  2016.0    1.0   \n",
       "4        Todd Starnes  2016-01-04  2016.0    1.0   \n",
       "\n",
       "                                                 url  \\\n",
       "0  https://web.archive.org/web/20160101000951/htt...   \n",
       "1  https://web.archive.org/web/20160102032517/htt...   \n",
       "2  https://web.archive.org/web/20160102032517/htt...   \n",
       "3  https://web.archive.org/web/20160104001421/htt...   \n",
       "4  https://web.archive.org/web/20160105014544/htt...   \n",
       "\n",
       "                                             content media_bias     label  \n",
       "0   Donald Trump launched new attacks against Bil...      right  POLITICS  \n",
       "1   The plunge in oil prices has given a needed b...      right  BUSINESS  \n",
       "2   With about 900, 000 concealed handgun permit ...      right  POLITICS  \n",
       "3   Republican presidential candidates are attack...      right  POLITICS  \n",
       "4   President Obama is plotting with his attorney...      right  POLITICS  "
      ]
     },
     "execution_count": 1,
     "metadata": {},
     "output_type": "execute_result"
    }
   ],
   "source": [
    "import pandas as pd\n",
    "df = pd.read_csv(r\"C:\\Users\\samue\\OneDrive - HKUST Connect\\year 2 spring\\UROP 1100\\UROP-1100-21S\\source_bias\\labelled_news_data.csv\")\n",
    "df.head()"
   ]
  },
  {
   "cell_type": "code",
   "execution_count": 2,
   "metadata": {},
   "outputs": [],
   "source": [
    "politics_sample = df[df['label'] == \"POLITICS\"].sample(100).content.values\n",
    "\n",
    "from sentence_transformers import SentenceTransformer\n",
    "model = SentenceTransformer('all-mpnet-base-v2')"
   ]
  },
  {
   "cell_type": "code",
   "execution_count": 22,
   "metadata": {},
   "outputs": [
    {
     "data": {
      "text/plain": [
       "array(['No sooner had Donald Trump been elected president than talk of his daughter Ivanka as the great liberal hope began. In recent months this kind of thinly veiled desperation, has spanned any number of areas, from women’s health and gay rights, to climate change. With Ivanka formally joining the White House as an official government employee, it’s time we saw the    narrative for what it is: a fiction. The move, first reported by the New York Times, is broadly seen as an effort to quell criticism that Ivanka’s informal advisory role put her odds with federal ethics standards. But in a statement to the Times, a Trump spokeswoman emphasized something else  —   specifically that Ivanka’s new position “affords her increased opportunities to lead initiatives driving real policy benefits for the American public that would not have been available to her previously”. Trump has long sought to cast his daughter as the better angel of his nature, using her polished, more moderate image to reach beyond his base. Her official role with the White House will lend new credence to this narrative. Don’t be fooled this time. There’s far too much evidence to the contrary. During the campaign Ivanka used   feminism to cover for her father’s boorish mistreatment of women, even referring to him as “a feminist” at one point. She also touted a parental leave policy that, while arguably   when juxtaposed with her father’s overt sexism, didn’t actually offer benefits to parents  —   just mothers. (In Ivanka’s peculiar brand of feminism, raising children is exclusively women’s work.) And with every passing day it seems the notion of Ivanka as Trump’s triangulator gets more absurd. Speaking the day after Trump’s decision to tear up Obama’s clean power plan, Jennifer Granholm, who made renewable energy a top priority during her tenure as the first female governor of Michigan, said: “If she was going to be helpful, yesterday would have been the example of how helpful she was going to be   …     She did nothing, obviously. ” Ivanka was reportedly looking to carve out “one of her signature issues” as an informal adviser and surrogate to her father. Now months later, we have even less reason to believe it. Since Trump was elected, Ivanka has done very little to justify her moderate image on climate or anywhere else, even as she’s been showered with praise. When reports surfaced back in February that she and her husband helped kill a proposed executive order to scuttle   LGBT protections, for instance, the Times ran the story with a glamorous photo of the couple dancing away inauguration night. But it’s unclear how close Trump ever really came to signing an order that in 2017 would likely carry very unfavorable political repercussions. What is clear is that crediting Ivanka for nebulous progressive “wins” like allegedly stopping homophobic legislation that might have existed allows Trump to throw red meat to his base while preserving the mythic appeal of Ivanka for the disenchanted. This isn’t triangulation as Trump would have us believe  —   it isn’t even moderation. It’s merely obfuscation. And we’ve seen it elsewhere too. Back in December, Ivanka met with Al Gore in Trump Tower, and in the months that followed rumors swirled that she and her husband Jared Kushner could be a moderating influence on Trump’s climate change policy. But like everything else she was purportedly going to make Trump more moderate on, her   influence is nowhere to be seen. That Trump made no mention of the US formally withdrawing from the Paris agreement (the 2015 agreement between roughly 200 countries to reduce greenhouse gas emissions) in his regressive climate executive action is already being cast yet again as an example of the moderating force of Ivanka. It shouldn’t be. Trump has already signaled he’ll do everything he can to hamstring America’s ability to follow through on its commitment to the global community of cutting emissions 26% to 28% by 2025. And if Trump’s not formally exiting Paris, it’s probably because he gets that it would destroy US credibility abroad and he would do it, essentially, for nothing  —   a bad deal, in Trump’s terms. Jamie Henn, a spokesman for environmental group 350. org, suggested on Wednesday that if Ivanka has something to say about Trump’s record she should do so in public, not tiptoe around behind the scenes. “Until she speaks out against her father’s unconscionable attacks on our air, water and climate she doesn’t deserve any applause from the press or public,” he said. He’s right. If this is what it looks like for Trump to act with the moderating force of Ivanka in his ear, she’s no moderating force at all.'],\n",
       "      dtype=object)"
      ]
     },
     "execution_count": 22,
     "metadata": {},
     "output_type": "execute_result"
    }
   ],
   "source": [
    "query = df[df['label'] == \"POLITICS\"].sample(1).content.values\n",
    "query"
   ]
  },
  {
   "cell_type": "code",
   "execution_count": 27,
   "metadata": {},
   "outputs": [],
   "source": [
    "corpus_embeddings = model.encode(list(politics_sample), device='cuda', convert_to_tensor=True)\n",
    "query_embeddings = model.encode(query, device='cuda', convert_to_tensor=True)"
   ]
  },
  {
   "cell_type": "code",
   "execution_count": 36,
   "metadata": {},
   "outputs": [],
   "source": [
    "from sentence_transformers import SentenceTransformer, util\n",
    "import torch\n",
    "\n",
    "corpus_embeddings = corpus_embeddings.to('cuda')\n",
    "corpus_embeddings = util.normalize_embeddings(corpus_embeddings)\n",
    "\n",
    "query_embeddings = query_embeddings.to('cuda')\n",
    "query_embeddings = util.normalize_embeddings(query_embeddings)\n",
    "hits = util.semantic_search(query_embeddings, corpus_embeddings, score_function=util.dot_score)"
   ]
  },
  {
   "cell_type": "code",
   "execution_count": 39,
   "metadata": {},
   "outputs": [
    {
     "data": {
      "text/plain": [
       "[[{'corpus_id': 97, 'score': 0.792650043964386},\n",
       "  {'corpus_id': 22, 'score': 0.6340529918670654},\n",
       "  {'corpus_id': 36, 'score': 0.5908309817314148},\n",
       "  {'corpus_id': 74, 'score': 0.5821033716201782},\n",
       "  {'corpus_id': 67, 'score': 0.5601848363876343},\n",
       "  {'corpus_id': 4, 'score': 0.5571118593215942},\n",
       "  {'corpus_id': 45, 'score': 0.54875648021698},\n",
       "  {'corpus_id': 25, 'score': 0.538939356803894},\n",
       "  {'corpus_id': 48, 'score': 0.5285794138908386},\n",
       "  {'corpus_id': 12, 'score': 0.51646888256073}]]"
      ]
     },
     "execution_count": 39,
     "metadata": {},
     "output_type": "execute_result"
    }
   ],
   "source": [
    "hits"
   ]
  },
  {
   "cell_type": "code",
   "execution_count": 40,
   "metadata": {},
   "outputs": [
    {
     "name": "stdout",
     "output_type": "stream",
     "text": [
      "0.792650043964386\n",
      "0.6340529918670654\n",
      "0.5908309817314148\n",
      "0.5821033716201782\n",
      "0.5601848363876343\n",
      "0.5571118593215942\n",
      "0.54875648021698\n",
      "0.538939356803894\n",
      "0.5285794138908386\n",
      "0.51646888256073\n"
     ]
    }
   ],
   "source": [
    "for hit in hits[0]:\n",
    "    print(hit['score'])"
   ]
  },
  {
   "cell_type": "code",
   "execution_count": 34,
   "metadata": {},
   "outputs": [
    {
     "data": {
      "text/plain": [
       "' Nobody expected a Republican presidential candidate would use primary airtime to compliment Planned Parenthood. Or feature a primetime speaker who bragged that the nominee would close the gender wage gap. Or make child care the subject of his first big economic proposal.    Donald Trump has done all three  —   guided by Ivanka Trump, his    daughter, who has played an unusually active role his campaign. “He will fight for equal pay for equal work,” Ivanka Trump said at the Republican National Convention. “I will fight for this too, right alongside of him. ”  It’s more common for conservatives to argue that the wage gap is the result of women’s personal choices, not a problem for the president to solve. But Ivanka Trump got a roomful of Republicans to stand up and cheer.    Ivanka Trump, in her role as one of her father’s most trusted, if unofficial, advisers, has injected her own ideas and values into Republican politics. A party that has historically championed traditional gender roles now has a nominee whose daughter celebrates ambitious women and calls for government to make it easier for women with children to succeed at work rather than stay home.     But she’s also representing her own interests. Like her father, Ivanka Trump isn’t just a mere human. She’s her own brand, selling Ivanka Trump jewelry, shoes, handbags, and clothing to educated professional women.  Donald Trump represented the ideal of  ’80s masculinity  —   outrageous wealth accompanying outrageous braggadocio. Ivanka Trump is the other side of the coin, projecting the idealized femininity of 2016. She celebrates the power of working women while making sure to display her adorable children in the background. Not only is she a polished professional who seems to have it all, she’ll sell you the shoes you need to wear to follow in her footsteps.     All this matters because what Ivanka Trump talks about, her father cares about. She also has a quality that’s rare in the Trump campaign: an ability to relentlessly, unshakably stay on message and on brand. Often, though, the brand isn’t her father’s but her own. Ivanka Trump’s   message might be calculated to attract the women voters among whom Donald Trump polls so terribly. But she’s also advancing her own personal ambitions. Ivanka Trump’s brand is about representing “women who work”  —   and the more she’s on the campaign trail, the more she’s able to promote that image.  As she wrote in her 2009 book, The Trump Card: “Everything I’ve done has led directly to what I’m doing, just as everything I’m doing is tied into what I might do next. ”     Who is Ivanka Trump?              Before she turned 30, Ivanka Trump, Donald Trump’s daughter from his first marriage to model Ivana Trump, was a vice president at her father’s company, a reality television star, the author of a career advice book, and a fashion entrepreneur.  In other words, Ivanka Trump, now 34, is an extension of the family brand. She’s an executive vice president at the Trump Organization with a broad portfolio of responsibilities. Her Ivanka Trump fine jewelry collection, aimed at women who are buying their own jewelry, launched in 2007. Then she expanded into   shoes, bags, and work clothes.  She’s also trying to carve out a role for herself in the bigger national conversation about women and ambition that found its apex in Sheryl Sandberg’s Lean In.  Her 2009 book, The Trump Card, is a career advice handbook, the same breezy mix of   tips and memoir that Donald Trump made famous in The Art of the Deal. Her website, IvankaTrump. com, puts fashion tips next to articles with headlines such as “5 Tips for Running a Business from Home. ” In 2014, Trump launched a Women Who Work campaign, a series of short videos focusing on the lives of successful women entrepreneurs. The Women Who Work videos, and the interviews Trump has given about them, make the   Lean In seem like a weighty sociology text. But female empowerment is a hot marketing tool. Trump is selling a polished version of female ambition and competence, like a slightly older, impossibly poised sorority sister mentoring the girls a few years behind her.  Of course, she’s also selling shoes. Ivanka Trump is all about celebrating “women who work”  —   but only some women  Ivanka Trump’s core ideology is about celebrating the achievements of women who work not as an economic necessity but by choice.     Trump says she wants to remove the stigma from the term “working woman,” but she’s talking about and to a very specific kind of working woman  —   the same woman who can afford to buy Ivanka Trump clothes and has a   job where she can wear them. In her Women Who Work videos, a series of successful professional women, many of them startup founders, describe themselves in terms of their achievements outside the office. “I play at cooking  —   I say ‘play’ because I’m not good,” says Alexa von Tobel, the founder and CEO of LearnVest.  “When things have gone wrong, it’s been my family that has helped me piece it together and let me know that I have inherent ” says Shiza Shahid,   of the Malala Fund.  This isn’t feminism so much as “You go girl!” . Trump is celebrating the achievements of women of her generation and highlighting that they have lives outside the office. The videos skirt close to suggesting that the women she’s profiling “have it all,” in part because Trump is much less likely to talk about the tradeoffs that society requires of them in order to be successful.  Every woman, Trump is arguing, is a woman who works. And the more women there are who are “women who work,” the more potential customers there are for Ivanka Trump clothes. Structural critiques, though, don’t help sell clothes. So her brand largely ignores the darker side of being a woman at the office, whether it’s the struggle to balance work and family or the frequency with which women encounter sexual harassment.     Even in The Trump Card, where she tells a story about her anxiety about responding appropriately to wolf whistles and other forms of sexual harassment on construction sites, she turns it into a lesson about the need to learn to take a joke:  Sexual harassment is never acceptable, and we must stand against it. At the same time, we must recognize that our coworkers come in all shapes, stripes, and sizes. What might be offensive to one person might appear harmless to another. Learn to figure out when a hoot or a holler is indeed a form of harassment and when it’s merely a   tease that you can give back in kind. She’s equally unlikely to deal with larger structural issues affecting women. Asked on CBNC if she identifies more with Lean In, Sheryl Sandberg’s championing of female ambition, or   Slaughter’s structural critique in an article headlined “Why Women Still Can’t Have It All,” Trump dodged the question: “My approach is to celebrate that we are all the architects of our own lives,” she responded.  Her goal is to define “women’s work” as something bigger than just their careers, with the message that every woman is a working woman. And if every woman is a working woman, then every woman is a potential Trump customer.  How Ivanka Trump’s beliefs have affected Donald Trump’s policy Before her father started running for president, Ivanka Trump’s message of female empowerment was utterly devoid of ideas about the role of government in women’s professional success. Now that she’s helping craft his domestic policy ideas on the campaign trail, they often reflect  —   consciously or unconsciously  —   that she’s speaking to a very specific audience. The biggest piece of policy she’s worked on so far reflects those blind spotsTrump’s Women Who Work campaign isn’t aimed at women who get dressed in a Starbucks cashier’s uniform rather than an Ivanka   dress and pumps. She isn’t celebrating the achievements of a single mom who works two jobs at the minimum wage, or a woman who needs child care while earning a college degree.    The biggest piece of policy she’s worked on so far reflects those blind spots. Donald Trump, whose campaign has been almost entirely   broke with tradition in August with a child care plan which called for making child care expenses   a policy which Ivanka played a role in crafting. Almost immediately, the plan was criticized for helping the wealthy, who pay a higher tax rate, more than the poor, who struggle the most to afford child care. As originally proposed, the plan would do nothing for the families who pay no income taxes at all, or for those who are living paycheck to paycheck and can’t afford to wait until tax time to see a benefit.  The campaign later suggested those workers could deduct child care costs from payroll taxes. Still, the fact remained: The people who would be helped most by Donald Trump’s child care plan are the     women in Ivanka Trump’s audience.  Even Ivanka Trump’s emphasis on the gender pay gap, particularly for women with children  —   a longtime cause of feminist activists  —   skews toward professional women. Women with advanced degrees experience the greatest gap between their salaries and their male peers’.  How Ivanka Trump’s message could influence Republicans    Ivanka Trump’s message could be an awkward fit with her father’s base. But even after she gave a   speech at the Republican National Convention, delegates didn’t seem dissatisfied. The speech seemed aimed less at the Republicans in the room and more at Ivanka’s own audience  —   women who are statistically very unlikely to vote for her father. Trump fares worse with   people, young voters, and women. Ivanka Trump is aiming her message squarely at that group.    Still, that doesn’t mean there’s no home for her ideas within the Republican Party.  The Trump Card, is infused with an     mentality. Trump seems to believe there are few disadvantages that can’t be made up for by hard work: “You might not have their Ivy League pedigrees or their advanced degrees,” she writes to her audience of young professionals. “But there’s no reason you can’t get to work earlier than they do every morning and leave later every evening. ” That fits in well with a party that prefers   to government assistance. Even the underlying message of Women Who Work  —   while it celebrates women who go to the office rather than stay home and raise children  —   is in its own way socially conservative, emphasizing that it’s not enough for a woman to define itself by her professional success. Her admonition that while sexual harassment is unacceptable, sometimes you just need to laugh it off, wouldn’t be out of place on the Wall Street Journal   page.  For Ivanka Trump to have a lasting impact on the Republican Party, she’d have to care about conservative politics beyond her father’s campaign.  And so far, her policy suggestions haven’t drawn on the Republican Party as a whole. Conservative reformers have suggested ideas to expand the child tax credit and help women with children, whether they work or stay home, that the campaign could have adapted. Instead, the campaign came up with its own child care plan, one that reflected Ivanka Trump’s biases and audience. Is Ivanka Trump helping her father’s campaign, or helping herself?             The vast gulf between the Donald Trump and Ivanka Trump audiences means that, by working so avidly for her father’s election, Ivanka Trump is taking a risk. Her brand could be tainted by being so permanently associated with a man so many women, particularly educated, affluent women, disapprove of.    But there’s another possible outcome, too. The more Ivanka Trump talks about working women and gender issues on the trail, the more she strengthens the core of her “women who work” brand while trying to help her father attract female voters. (She doesn’t weigh in on crime or immigration, more controversial subjects tightly associated with his campaign but not with her own brand.) The evidence suggests that Ivanka Trump would see a choice between helping her father or helping herself as a false one. In the epilogue of The Trump Card, Trump writes about one of her favorite business terms, synergy  —   making all of your ventures work together to reinforce each other. When she was a judge on Celebrity Apprentice, she designed a challenge around her jewelry brand; in her work at the Trump Organization, she offered $500 discounts to the best customers at the company’s hotels. The point, she wrote, was a sort of   strengthening the Ivanka Trump brand (she looks like a competent businesswoman) the Trump Organization (which was able to reward its loyal customers) and her jewelry business (which got airtime on Celebrity Apprentice and more business from Trump Hotel guests) all at the same time.  Through that lens, her choice to speak about equal pay at the Republican National Convention makes sense. It’s another example of her cherished synergy: She could appeal to women voters for her father while underscoring to a national audience that Ivanka Trump is a poised businesswoman who understands the needs of “women who work. ”  When it comes to synergy in   Celebrity Apprentice is nothing compared to the main stage of a national political convention. '"
      ]
     },
     "execution_count": 34,
     "metadata": {},
     "output_type": "execute_result"
    }
   ],
   "source": [
    "list(politics_sample)[97]"
   ]
  },
  {
   "cell_type": "code",
   "execution_count": null,
   "metadata": {},
   "outputs": [],
   "source": []
  }
 ],
 "metadata": {
  "interpreter": {
   "hash": "f00daf49d657fcaf7bdc5adbb3b43841207e448605290b2bd26bf112b8cca0df"
  },
  "kernelspec": {
   "display_name": "Python 3.8.12 ('urop')",
   "language": "python",
   "name": "python3"
  },
  "language_info": {
   "codemirror_mode": {
    "name": "ipython",
    "version": 3
   },
   "file_extension": ".py",
   "mimetype": "text/x-python",
   "name": "python",
   "nbconvert_exporter": "python",
   "pygments_lexer": "ipython3",
   "version": "3.8.12"
  },
  "orig_nbformat": 4
 },
 "nbformat": 4,
 "nbformat_minor": 2
}
