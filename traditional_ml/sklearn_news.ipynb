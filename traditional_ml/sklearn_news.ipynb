{
 "cells": [
  {
   "cell_type": "code",
   "execution_count": 1,
   "metadata": {},
   "outputs": [],
   "source": [
    "import time\n",
    "import pandas as pd\n",
    "from tqdm import tqdm\n",
    "\n",
    "from sklearn.datasets import fetch_20newsgroups\n",
    "from sklearn.feature_extraction.text import TfidfVectorizer\n",
    "from sklearn.linear_model import RidgeClassifier\n",
    "from sklearn.pipeline import Pipeline\n",
    "from sklearn.svm import LinearSVC\n",
    "from sklearn.linear_model import SGDClassifier\n",
    "from sklearn.linear_model import Perceptron\n",
    "from sklearn.linear_model import PassiveAggressiveClassifier\n",
    "from sklearn.linear_model import LogisticRegression\n",
    "from sklearn.naive_bayes import ComplementNB, MultinomialNB\n",
    "from sklearn.neighbors import KNeighborsClassifier\n",
    "from sklearn.ensemble import RandomForestClassifier\n",
    "from sklearn.model_selection import train_test_split"
   ]
  },
  {
   "cell_type": "code",
   "execution_count": 2,
   "metadata": {},
   "outputs": [
    {
     "name": "stdout",
     "output_type": "stream",
     "text": [
      "training data: 13192\n",
      "testing data: 5654\n",
      "categories: 20\n"
     ]
    }
   ],
   "source": [
    "data = fetch_20newsgroups(subset=\"all\", shuffle=True, random_state=42)\n",
    "X_train, X_test, y_train, y_test = train_test_split(data.data, data.target, test_size=0.3, random_state=42)\n",
    "print(f\"training data: {len(X_train)}\")\n",
    "print(f\"testing data: {len(X_test)}\")\n",
    "print(f\"categories: {len(set(y_test))}\")"
   ]
  },
  {
   "cell_type": "code",
   "execution_count": 3,
   "metadata": {},
   "outputs": [],
   "source": [
    "def train(pipeline, X_train, y_train, X_test, y_test):\n",
    "    # define pipeline\n",
    "    pipe = Pipeline(pipeline)\n",
    "\n",
    "    # train model\n",
    "    train_start = time.time()\n",
    "    pipe.fit(X_train, y_train)\n",
    "    train_time = time.time() - train_start\n",
    "\n",
    "    # test model\n",
    "    test_start = time.time()\n",
    "    score = pipe.score(X_test, y_test)\n",
    "    test_time = time.time() - test_start\n",
    "\n",
    "    model_name = '+'.join([pipe[0] for pipe in pipeline])\n",
    "\n",
    "    return model_name, score, train_time, test_time\n"
   ]
  },
  {
   "cell_type": "code",
   "execution_count": 4,
   "metadata": {},
   "outputs": [],
   "source": [
    "# models to train\n",
    "vectorizer = ('tfidf', TfidfVectorizer(stop_words=\"english\"))\n",
    "model = [\n",
    "('sgd', SGDClassifier()), \n",
    "('ridge', RidgeClassifier()),\n",
    "('perceptron', Perceptron()),\n",
    "('passiveaggressive', PassiveAggressiveClassifier()),\n",
    "('kNN', KNeighborsClassifier()),\n",
    "('svc', LinearSVC()),\n",
    "('multi_NB', MultinomialNB()),\n",
    "('CNB', ComplementNB()),\n",
    "('logreg', LogisticRegression())\n",
    "]\n"
   ]
  },
  {
   "cell_type": "code",
   "execution_count": 5,
   "metadata": {},
   "outputs": [
    {
     "name": "stderr",
     "output_type": "stream",
     "text": [
      "100%|██████████| 9/9 [03:38<00:00, 24.32s/it]\n"
     ]
    }
   ],
   "source": [
    "results = []\n",
    "# loop models to get result\n",
    "for ind in tqdm(range(len(model))):\n",
    "    pipeline = [vectorizer, model[ind]]\n",
    "    result = train(pipeline, X_train, y_train, X_test, y_test)\n",
    "    results.append(result)"
   ]
  },
  {
   "cell_type": "code",
   "execution_count": 6,
   "metadata": {},
   "outputs": [
    {
     "data": {
      "text/html": [
       "<div>\n",
       "<style scoped>\n",
       "    .dataframe tbody tr th:only-of-type {\n",
       "        vertical-align: middle;\n",
       "    }\n",
       "\n",
       "    .dataframe tbody tr th {\n",
       "        vertical-align: top;\n",
       "    }\n",
       "\n",
       "    .dataframe thead th {\n",
       "        text-align: right;\n",
       "    }\n",
       "</style>\n",
       "<table border=\"1\" class=\"dataframe\">\n",
       "  <thead>\n",
       "    <tr style=\"text-align: right;\">\n",
       "      <th></th>\n",
       "      <th>model</th>\n",
       "      <th>accuracy</th>\n",
       "      <th>train_time</th>\n",
       "      <th>test_time</th>\n",
       "    </tr>\n",
       "    <tr>\n",
       "      <th>model</th>\n",
       "      <th></th>\n",
       "      <th></th>\n",
       "      <th></th>\n",
       "      <th></th>\n",
       "    </tr>\n",
       "  </thead>\n",
       "  <tbody>\n",
       "    <tr>\n",
       "      <th>tfidf+sgd</th>\n",
       "      <td>tfidf+sgd</td>\n",
       "      <td>0.920410</td>\n",
       "      <td>8.181007</td>\n",
       "      <td>2.316995</td>\n",
       "    </tr>\n",
       "    <tr>\n",
       "      <th>tfidf+ridge</th>\n",
       "      <td>tfidf+ridge</td>\n",
       "      <td>0.926070</td>\n",
       "      <td>13.852002</td>\n",
       "      <td>1.381994</td>\n",
       "    </tr>\n",
       "    <tr>\n",
       "      <th>tfidf+perceptron</th>\n",
       "      <td>tfidf+perceptron</td>\n",
       "      <td>0.894588</td>\n",
       "      <td>4.415010</td>\n",
       "      <td>1.340991</td>\n",
       "    </tr>\n",
       "    <tr>\n",
       "      <th>tfidf+passiveaggressive</th>\n",
       "      <td>tfidf+passiveaggressive</td>\n",
       "      <td>0.925893</td>\n",
       "      <td>4.585995</td>\n",
       "      <td>1.252998</td>\n",
       "    </tr>\n",
       "    <tr>\n",
       "      <th>tfidf+kNN</th>\n",
       "      <td>tfidf+kNN</td>\n",
       "      <td>0.794305</td>\n",
       "      <td>3.256038</td>\n",
       "      <td>5.481959</td>\n",
       "    </tr>\n",
       "    <tr>\n",
       "      <th>tfidf+svc</th>\n",
       "      <td>tfidf+svc</td>\n",
       "      <td>0.926601</td>\n",
       "      <td>10.232004</td>\n",
       "      <td>1.640995</td>\n",
       "    </tr>\n",
       "    <tr>\n",
       "      <th>tfidf+multi_NB</th>\n",
       "      <td>tfidf+multi_NB</td>\n",
       "      <td>0.873364</td>\n",
       "      <td>6.001003</td>\n",
       "      <td>3.586001</td>\n",
       "    </tr>\n",
       "    <tr>\n",
       "      <th>tfidf+CNB</th>\n",
       "      <td>tfidf+CNB</td>\n",
       "      <td>0.902016</td>\n",
       "      <td>6.597993</td>\n",
       "      <td>2.078996</td>\n",
       "    </tr>\n",
       "    <tr>\n",
       "      <th>tfidf+logreg</th>\n",
       "      <td>tfidf+logreg</td>\n",
       "      <td>0.901486</td>\n",
       "      <td>141.116002</td>\n",
       "      <td>1.505998</td>\n",
       "    </tr>\n",
       "  </tbody>\n",
       "</table>\n",
       "</div>"
      ],
      "text/plain": [
       "                                           model  accuracy  train_time  \\\n",
       "model                                                                    \n",
       "tfidf+sgd                              tfidf+sgd  0.920410    8.181007   \n",
       "tfidf+ridge                          tfidf+ridge  0.926070   13.852002   \n",
       "tfidf+perceptron                tfidf+perceptron  0.894588    4.415010   \n",
       "tfidf+passiveaggressive  tfidf+passiveaggressive  0.925893    4.585995   \n",
       "tfidf+kNN                              tfidf+kNN  0.794305    3.256038   \n",
       "tfidf+svc                              tfidf+svc  0.926601   10.232004   \n",
       "tfidf+multi_NB                    tfidf+multi_NB  0.873364    6.001003   \n",
       "tfidf+CNB                              tfidf+CNB  0.902016    6.597993   \n",
       "tfidf+logreg                        tfidf+logreg  0.901486  141.116002   \n",
       "\n",
       "                         test_time  \n",
       "model                               \n",
       "tfidf+sgd                 2.316995  \n",
       "tfidf+ridge               1.381994  \n",
       "tfidf+perceptron          1.340991  \n",
       "tfidf+passiveaggressive   1.252998  \n",
       "tfidf+kNN                 5.481959  \n",
       "tfidf+svc                 1.640995  \n",
       "tfidf+multi_NB            3.586001  \n",
       "tfidf+CNB                 2.078996  \n",
       "tfidf+logreg              1.505998  "
      ]
     },
     "execution_count": 6,
     "metadata": {},
     "output_type": "execute_result"
    }
   ],
   "source": [
    "result_df = pd.DataFrame(results, columns=['model', 'accuracy', 'train_time', 'test_time'])\n",
    "result_df.index = result_df['model']\n",
    "result_df"
   ]
  },
  {
   "cell_type": "code",
   "execution_count": 7,
   "metadata": {},
   "outputs": [
    {
     "data": {
      "text/plain": [
       "<AxesSubplot:ylabel='model'>"
      ]
     },
     "execution_count": 7,
     "metadata": {},
     "output_type": "execute_result"
    },
    {
     "data": {
      "image/png": "[encoded data removed]",
      "text/plain": [
       "<Figure size 864x432 with 1 Axes>"
      ]
     },
     "metadata": {
      "needs_background": "light"
     },
     "output_type": "display_data"
    }
   ],
   "source": [
    "result_df.sort_values(by='accuracy').accuracy.plot(kind='barh', figsize=(12,6))"
   ]
  },
  {
   "cell_type": "code",
   "execution_count": 8,
   "metadata": {},
   "outputs": [],
   "source": [
    "result_df.to_csv(\"sklearn.csv\")"
   ]
  },
  {
   "cell_type": "code",
   "execution_count": null,
   "metadata": {},
   "outputs": [],
   "source": []
  }
 ],
 "metadata": {
  "interpreter": {
   "hash": "f00daf49d657fcaf7bdc5adbb3b43841207e448605290b2bd26bf112b8cca0df"
  },
  "kernelspec": {
   "display_name": "Python 3.8.12 ('urop')",
   "language": "python",
   "name": "python3"
  },
  "language_info": {
   "codemirror_mode": {
    "name": "ipython",
    "version": 3
   },
   "file_extension": ".py",
   "mimetype": "text/x-python",
   "name": "python",
   "nbconvert_exporter": "python",
   "pygments_lexer": "ipython3",
   "version": "3.8.12"
  },
  "orig_nbformat": 4
 },
 "nbformat": 4,
 "nbformat_minor": 2
}
