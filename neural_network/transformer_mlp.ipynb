{
 "cells": [
  {
   "cell_type": "code",
   "execution_count": 13,
   "metadata": {},
   "outputs": [
    {
     "data": {
      "text/plain": [
       "20"
      ]
     },
     "execution_count": 13,
     "metadata": {},
     "output_type": "execute_result"
    }
   ],
   "source": [
    "import pickle\n",
    "from sklearn.datasets import fetch_20newsgroups\n",
    "\n",
    "with open('sklearn_embeddings.pkl', \"rb\") as fIn:\n",
    "    stored_data = pickle.load(fIn)\n",
    "    stored_sentences = stored_data['sentences']\n",
    "    stored_embeddings = stored_data['embeddings']\n",
    "\n",
    "data = fetch_20newsgroups(subset=\"all\", shuffle=True, random_state=42)\n",
    "target = data.target\n",
    "len(set(target))"
   ]
  },
  {
   "cell_type": "code",
   "execution_count": 47,
   "metadata": {},
   "outputs": [
    {
     "name": "stdout",
     "output_type": "stream",
     "text": [
      "(15217, 768) (2686, 768) (15217,) (2686,)\n"
     ]
    }
   ],
   "source": [
    "train_ratio = 0.95\n",
    "valid_ratio = 0.15\n",
    "num_data = stored_embeddings.shape[0]\n",
    "\n",
    "feat_size = stored_embeddings.shape[1]\n",
    "num_train = int(num_data*train_ratio)\n",
    "\n",
    "train_feature = stored_embeddings[:num_train, :]\n",
    "test_feature = stored_embeddings[num_train:, :]\n",
    "\n",
    "train_target = data.target[:num_train]\n",
    "test_target = data.target[num_train:]\n",
    "\n",
    "from sklearn.model_selection import train_test_split\n",
    "train_x, valid_x, train_y, valid_y = train_test_split(train_feature, train_target, test_size=valid_ratio, random_state=42) \n",
    "print(train_x.shape, valid_x.shape, train_y.shape, valid_y.shape)"
   ]
  },
  {
   "cell_type": "code",
   "execution_count": 15,
   "metadata": {},
   "outputs": [],
   "source": [
    "import torch\n",
    "from torch.utils.data import DataLoader, TensorDataset\n",
    "batch_size = 64\n",
    "\n",
    "train_x, train_y = torch.from_numpy(train_x).float(), torch.from_numpy(train_y).float()   \n",
    "train_loader = DataLoader(TensorDataset(train_x, train_y), batch_size=batch_size)   \n",
    "\n",
    "valid_x, valid_y = torch.from_numpy(valid_x).float(), torch.from_numpy(valid_y).float()\n",
    "valid_loader = DataLoader(TensorDataset(valid_x, valid_y), batch_size=batch_size)"
   ]
  },
  {
   "cell_type": "code",
   "execution_count": 22,
   "metadata": {},
   "outputs": [],
   "source": [
    "import numpy as np\n",
    "import torch.nn as nn\n",
    "\n",
    "# accuarcy\n",
    "def AccuarcyCompute(pred, label):\n",
    "    pred = pred.cpu().data.numpy()\n",
    "    label = label.cpu().data.numpy()\n",
    "    test_np = (np.argmax(pred,1) == label)\n",
    "    test_np = np.float32(test_np)\n",
    "    return np.mean(test_np)\n",
    "\n",
    "class Model_MLP(nn.Module):\n",
    "    def __init__(self):\n",
    "        super(Model_MLP, self).__init__()\n",
    "        self.layers = nn.Sequential(\n",
    "        nn.Flatten(),\n",
    "        nn.Linear(768, 64),\n",
    "        nn.ReLU(),\n",
    "        nn.Linear(64, 32),\n",
    "        nn.ReLU(),\n",
    "        nn.Linear(32, 20)\n",
    "        )\n",
    "\n",
    "    def forward(self, x):\n",
    "        '''Forward pass'''\n",
    "        return self.layers(x)\n",
    "\n"
   ]
  },
  {
   "cell_type": "code",
   "execution_count": 38,
   "metadata": {},
   "outputs": [
    {
     "name": "stdout",
     "output_type": "stream",
     "text": [
      "Epoch 1/20\n",
      "The train loss is 1.921469. \n",
      "The valid loss is 0.947713.\n",
      "Epoch 2/20\n",
      "The train loss is 0.744351. \n",
      "The valid loss is 0.693124.\n",
      "Epoch 3/20\n",
      "The train loss is 0.587996. \n",
      "The valid loss is 0.624256.\n",
      "Epoch 4/20\n",
      "The train loss is 0.519503. \n",
      "The valid loss is 0.586162.\n",
      "Epoch 5/20\n",
      "The train loss is 0.474627. \n",
      "The valid loss is 0.561374.\n",
      "Epoch 6/20\n",
      "The train loss is 0.441389. \n",
      "The valid loss is 0.543551.\n",
      "Epoch 7/20\n",
      "The train loss is 0.414833. \n",
      "The valid loss is 0.530223.\n",
      "Epoch 8/20\n",
      "The train loss is 0.392602. \n",
      "The valid loss is 0.519718.\n",
      "Epoch 9/20\n",
      "The train loss is 0.373111. \n",
      "The valid loss is 0.511261.\n",
      "Epoch 10/20\n",
      "The train loss is 0.355548. \n",
      "The valid loss is 0.504370.\n",
      "Epoch 11/20\n",
      "The train loss is 0.339525. \n",
      "The valid loss is 0.498758.\n",
      "Epoch 12/20\n",
      "The train loss is 0.324591. \n",
      "The valid loss is 0.493900.\n",
      "Epoch 13/20\n",
      "The train loss is 0.310594. \n",
      "The valid loss is 0.489715.\n",
      "Epoch 14/20\n",
      "The train loss is 0.297240. \n",
      "The valid loss is 0.486443.\n",
      "Epoch 15/20\n",
      "The train loss is 0.284623. \n",
      "The valid loss is 0.483922.\n",
      "Epoch 16/20\n",
      "The train loss is 0.272616. \n",
      "The valid loss is 0.482089.\n",
      "Epoch 17/20\n",
      "The train loss is 0.261043. \n",
      "The valid loss is 0.480835.\n",
      "Epoch 18/20\n",
      "The train loss is 0.249942. \n",
      "The valid loss is 0.480216.\n",
      "Epoch 19/20\n",
      "The train loss is 0.239105. \n",
      "The valid loss is 0.480325.\n",
      "Epoch 20/20\n",
      "The train loss is 0.228627. \n",
      "The valid loss is 0.480662.\n"
     ]
    },
    {
     "data": {
      "image/png": "[encoded data removed]",
      "text/plain": [
       "<Figure size 432x288 with 1 Axes>"
      ]
     },
     "metadata": {
      "needs_background": "light"
     },
     "output_type": "display_data"
    }
   ],
   "source": [
    "import matplotlib.pyplot as plt\n",
    "total_epoch = 20\n",
    "\n",
    "device = torch.device(\"cuda:0\" if torch.cuda.is_available() else \"cpu\") \n",
    "model = Model_MLP().to(device)   \n",
    "optimizer = torch.optim.Adam(model.parameters(), lr=1e-3)\n",
    "criterion = torch.nn.CrossEntropyLoss()\n",
    "\n",
    "train_loss = np.zeros(total_epoch)\n",
    "valid_loss = np.zeros(total_epoch)\n",
    "\n",
    "for epoch in range(total_epoch):\n",
    "    print(\"Epoch {}/{}\".format(epoch+1, total_epoch))\n",
    "    model.train()              \n",
    "    train_loss_array = []    \n",
    "    for i, _data in enumerate(train_loader):\n",
    "        _train_X, _train_Y = _data[0].to(device),_data[1].to(device)\n",
    "        _train_Y = _train_Y.type(torch.LongTensor).to(device)\n",
    "        optimizer.zero_grad()            \n",
    "        pred_Y = model(_train_X) \n",
    "\n",
    "        loss = criterion(pred_Y, _train_Y) \n",
    "        loss.backward()             \n",
    "        optimizer.step()              \n",
    "        train_loss_array.append(loss.item())\n",
    "\n",
    "    model.eval()                \n",
    "    valid_loss_array = []\n",
    "    hidden_valid = None\n",
    "    for _valid_X, _valid_Y in valid_loader:\n",
    "        _valid_X, _valid_Y = _valid_X.to(device), _valid_Y.to(device)\n",
    "        _valid_Y = _valid_Y.type(torch.LongTensor).to(device)\n",
    "        pred_Y = model(_valid_X)\n",
    "        loss = criterion(pred_Y, _valid_Y) \n",
    "        valid_loss_array.append(loss.item())\n",
    "\n",
    "    train_loss[epoch] = np.mean(train_loss_array)\n",
    "    valid_loss[epoch] = np.mean(valid_loss_array)\n",
    "    print(\"The train loss is {:.6f}. \\n\".format(train_loss[epoch]) + \"The valid loss is {:.6f}.\".format(valid_loss[epoch]))\n",
    "\n",
    "plt.figure()\n",
    "plt.plot(train_loss, label='Training loss')\n",
    "plt.plot(valid_loss, label='Validation loss')\n",
    "plt.xlabel('Epoch')\n",
    "plt.ylabel('Loss')\n",
    "plt.legend()\n",
    "plt.show()"
   ]
  },
  {
   "cell_type": "code",
   "execution_count": 51,
   "metadata": {},
   "outputs": [],
   "source": [
    "test_x = test_feature\n",
    "test_y = test_target"
   ]
  },
  {
   "cell_type": "code",
   "execution_count": 52,
   "metadata": {},
   "outputs": [
    {
     "data": {
      "text/plain": [
       "tensor([ -2.3647,  -2.2926,  -3.8962,  ..., -17.2494,  -4.2858,  -4.4941],\n",
       "       device='cuda:0', grad_fn=<CatBackward0>)"
      ]
     },
     "execution_count": 52,
     "metadata": {},
     "output_type": "execute_result"
    }
   ],
   "source": [
    "test_x = torch.from_numpy(test_x).float()\n",
    "test_set = TensorDataset(test_x)\n",
    "test_loader = DataLoader(test_set, batch_size=1)\n",
    "result = torch.Tensor().to(device)\n",
    "\n",
    "model.eval()\n",
    "for _data in test_loader:\n",
    "    data_X = _data[0].to(device)\n",
    "    pred_X = model(data_X)\n",
    "    cur_pred = torch.squeeze(pred_X, dim=0)\n",
    "    result = torch.cat((result, cur_pred), dim=0)\n",
    "\n",
    "result"
   ]
  },
  {
   "cell_type": "code",
   "execution_count": null,
   "metadata": {},
   "outputs": [],
   "source": []
  }
 ],
 "metadata": {
  "interpreter": {
   "hash": "f00daf49d657fcaf7bdc5adbb3b43841207e448605290b2bd26bf112b8cca0df"
  },
  "kernelspec": {
   "display_name": "Python 3.8.12 ('urop')",
   "language": "python",
   "name": "python3"
  },
  "language_info": {
   "codemirror_mode": {
    "name": "ipython",
    "version": 3
   },
   "file_extension": ".py",
   "mimetype": "text/x-python",
   "name": "python",
   "nbconvert_exporter": "python",
   "pygments_lexer": "ipython3",
   "version": "3.8.12"
  },
  "orig_nbformat": 4
 },
 "nbformat": 4,
 "nbformat_minor": 2
}
